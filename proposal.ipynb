{
 "cells": [
  {
   "cell_type": "markdown",
   "metadata": {},
   "source": [
    "## Heart Disease Analysis"
   ]
  },
  {
   "cell_type": "markdown",
   "metadata": {},
   "source": [
    "**Intro**\n",
    "\n",
    "Heart disease refers to conditions that affect the regular functions of the heart, stemming from several root causes. Medical conditions including high blood pressure, diabetes, and lifestyle risks such as long term unhealthy diets, overuse of tobacco and alcohol, stress, etc. are risk factors of heart diseases. Many symptoms can indicate potential heart disease, such as high blood pressure, shortness of breath, etc.\n",
    "\n",
    "Heart diseases are classified based on elements such as: ST depression, serum cholesterol level, resting blood pressure, etc. ST depression refers to the segment of the ECG slope below the baseline relative to the slope at rest. Serum cholesterol level measures the amount of cholesterol in the bloodstream, and resting blood pressure refers to the pressure of the arteries when blood is pumped into the heart. \n",
    "\n",
    "We will be predicting the diagnosis of heart disease (indicated by the percentage of narrowing of any major vessel of the heart, with above 50% being a positive diagnosis) based on measurements of ST depression, resting blood pressure, and serum cholesterol level, using the Heart Disease Data Set containing Hungarian heart disease patients’ medical conditions. \n",
    "\n",
    "__References:__\n",
    "\n",
    "https://www.cdc.gov/heartdisease/about.htm\n",
    "\n",
    "https://www.mayoclinic.org/diseases-conditions/angina/symptoms-causes/syc-20369373\n"
   ]
  },
  {
   "cell_type": "markdown",
   "metadata": {},
   "source": [
    "**Preliminary exploratory data analysis**"
   ]
  },
  {
   "cell_type": "code",
   "execution_count": 2,
   "metadata": {},
   "outputs": [
    {
     "name": "stderr",
     "output_type": "stream",
     "text": [
      "── \u001b[1mAttaching packages\u001b[22m ─────────────────────────────────────── tidyverse 1.3.0 ──\n",
      "\n",
      "\u001b[32m✔\u001b[39m \u001b[34mggplot2\u001b[39m 3.3.2     \u001b[32m✔\u001b[39m \u001b[34mpurrr  \u001b[39m 0.3.4\n",
      "\u001b[32m✔\u001b[39m \u001b[34mtibble \u001b[39m 3.0.3     \u001b[32m✔\u001b[39m \u001b[34mdplyr  \u001b[39m 1.0.2\n",
      "\u001b[32m✔\u001b[39m \u001b[34mtidyr  \u001b[39m 1.1.2     \u001b[32m✔\u001b[39m \u001b[34mstringr\u001b[39m 1.4.0\n",
      "\u001b[32m✔\u001b[39m \u001b[34mreadr  \u001b[39m 1.3.1     \u001b[32m✔\u001b[39m \u001b[34mforcats\u001b[39m 0.5.0\n",
      "\n",
      "Warning message:\n",
      "“package ‘ggplot2’ was built under R version 4.0.1”\n",
      "Warning message:\n",
      "“package ‘tibble’ was built under R version 4.0.2”\n",
      "Warning message:\n",
      "“package ‘tidyr’ was built under R version 4.0.2”\n",
      "Warning message:\n",
      "“package ‘dplyr’ was built under R version 4.0.2”\n",
      "── \u001b[1mConflicts\u001b[22m ────────────────────────────────────────── tidyverse_conflicts() ──\n",
      "\u001b[31m✖\u001b[39m \u001b[34mdplyr\u001b[39m::\u001b[32mfilter()\u001b[39m masks \u001b[34mstats\u001b[39m::filter()\n",
      "\u001b[31m✖\u001b[39m \u001b[34mdplyr\u001b[39m::\u001b[32mlag()\u001b[39m    masks \u001b[34mstats\u001b[39m::lag()\n",
      "\n",
      "Warning message:\n",
      "“package ‘tidymodels’ was built under R version 4.0.2”\n",
      "── \u001b[1mAttaching packages\u001b[22m ────────────────────────────────────── tidymodels 0.1.1 ──\n",
      "\n",
      "\u001b[32m✔\u001b[39m \u001b[34mbroom    \u001b[39m 0.7.0      \u001b[32m✔\u001b[39m \u001b[34mrecipes  \u001b[39m 0.1.13\n",
      "\u001b[32m✔\u001b[39m \u001b[34mdials    \u001b[39m 0.0.9      \u001b[32m✔\u001b[39m \u001b[34mrsample  \u001b[39m 0.0.7 \n",
      "\u001b[32m✔\u001b[39m \u001b[34minfer    \u001b[39m 0.5.4      \u001b[32m✔\u001b[39m \u001b[34mtune     \u001b[39m 0.1.1 \n",
      "\u001b[32m✔\u001b[39m \u001b[34mmodeldata\u001b[39m 0.0.2      \u001b[32m✔\u001b[39m \u001b[34mworkflows\u001b[39m 0.2.0 \n",
      "\u001b[32m✔\u001b[39m \u001b[34mparsnip  \u001b[39m 0.1.3      \u001b[32m✔\u001b[39m \u001b[34myardstick\u001b[39m 0.0.7 \n",
      "\n",
      "Warning message:\n",
      "“package ‘broom’ was built under R version 4.0.2”\n",
      "Warning message:\n",
      "“package ‘dials’ was built under R version 4.0.2”\n",
      "Warning message:\n",
      "“package ‘infer’ was built under R version 4.0.3”\n",
      "Warning message:\n",
      "“package ‘modeldata’ was built under R version 4.0.1”\n",
      "Warning message:\n",
      "“package ‘parsnip’ was built under R version 4.0.2”\n",
      "Warning message:\n",
      "“package ‘recipes’ was built under R version 4.0.1”\n",
      "Warning message:\n",
      "“package ‘tune’ was built under R version 4.0.2”\n",
      "Warning message:\n",
      "“package ‘workflows’ was built under R version 4.0.2”\n",
      "Warning message:\n",
      "“package ‘yardstick’ was built under R version 4.0.2”\n",
      "── \u001b[1mConflicts\u001b[22m ───────────────────────────────────────── tidymodels_conflicts() ──\n",
      "\u001b[31m✖\u001b[39m \u001b[34mscales\u001b[39m::\u001b[32mdiscard()\u001b[39m masks \u001b[34mpurrr\u001b[39m::discard()\n",
      "\u001b[31m✖\u001b[39m \u001b[34mdplyr\u001b[39m::\u001b[32mfilter()\u001b[39m   masks \u001b[34mstats\u001b[39m::filter()\n",
      "\u001b[31m✖\u001b[39m \u001b[34mrecipes\u001b[39m::\u001b[32mfixed()\u001b[39m  masks \u001b[34mstringr\u001b[39m::fixed()\n",
      "\u001b[31m✖\u001b[39m \u001b[34mdplyr\u001b[39m::\u001b[32mlag()\u001b[39m      masks \u001b[34mstats\u001b[39m::lag()\n",
      "\u001b[31m✖\u001b[39m \u001b[34myardstick\u001b[39m::\u001b[32mspec()\u001b[39m masks \u001b[34mreadr\u001b[39m::spec()\n",
      "\u001b[31m✖\u001b[39m \u001b[34mrecipes\u001b[39m::\u001b[32mstep()\u001b[39m   masks \u001b[34mstats\u001b[39m::step()\n",
      "\n"
     ]
    }
   ],
   "source": [
    "library(tidyverse)\n",
    "library(dplyr)\n",
    "library(readr)\n",
    "library(tidymodels) \n",
    "options(repr.matrix.max.rows = 6)"
   ]
  },
  {
   "cell_type": "code",
   "execution_count": 3,
   "metadata": {},
   "outputs": [
    {
     "name": "stderr",
     "output_type": "stream",
     "text": [
      "Warning message:\n",
      "“Duplicated column names deduplicated: '2' => '2_1' [7], '0' => '0_1' [9], '0' => '0_2' [10], '?' => '?_1' [12], '?' => '?_2' [13], '0' => '0_3' [14]”\n",
      "Parsed with column specification:\n",
      "cols(\n",
      "  `28` = \u001b[32mcol_double()\u001b[39m,\n",
      "  `1` = \u001b[32mcol_double()\u001b[39m,\n",
      "  `2` = \u001b[32mcol_double()\u001b[39m,\n",
      "  `130` = \u001b[31mcol_character()\u001b[39m,\n",
      "  `132` = \u001b[31mcol_character()\u001b[39m,\n",
      "  `0` = \u001b[31mcol_character()\u001b[39m,\n",
      "  `2_1` = \u001b[31mcol_character()\u001b[39m,\n",
      "  `185` = \u001b[31mcol_character()\u001b[39m,\n",
      "  `0_1` = \u001b[31mcol_character()\u001b[39m,\n",
      "  `0_2` = \u001b[32mcol_double()\u001b[39m,\n",
      "  `?` = \u001b[31mcol_character()\u001b[39m,\n",
      "  `?_1` = \u001b[31mcol_character()\u001b[39m,\n",
      "  `?_2` = \u001b[31mcol_character()\u001b[39m,\n",
      "  `0_3` = \u001b[32mcol_double()\u001b[39m\n",
      ")\n",
      "\n"
     ]
    },
    {
     "data": {
      "text/html": [
       "<table>\n",
       "<caption>A tibble: 6 × 14</caption>\n",
       "<thead>\n",
       "\t<tr><th scope=col>age</th><th scope=col>sex</th><th scope=col>cp</th><th scope=col>trestbps</th><th scope=col>chol</th><th scope=col>fbs</th><th scope=col>restecg</th><th scope=col>thalach</th><th scope=col>exang</th><th scope=col>oldpeak</th><th scope=col>slope</th><th scope=col>ca</th><th scope=col>thal</th><th scope=col>num</th></tr>\n",
       "\t<tr><th scope=col>&lt;dbl&gt;</th><th scope=col>&lt;dbl&gt;</th><th scope=col>&lt;dbl&gt;</th><th scope=col>&lt;chr&gt;</th><th scope=col>&lt;chr&gt;</th><th scope=col>&lt;chr&gt;</th><th scope=col>&lt;chr&gt;</th><th scope=col>&lt;chr&gt;</th><th scope=col>&lt;chr&gt;</th><th scope=col>&lt;dbl&gt;</th><th scope=col>&lt;chr&gt;</th><th scope=col>&lt;chr&gt;</th><th scope=col>&lt;chr&gt;</th><th scope=col>&lt;dbl&gt;</th></tr>\n",
       "</thead>\n",
       "<tbody>\n",
       "\t<tr><td>29</td><td>1</td><td>2</td><td>120</td><td>243</td><td>0</td><td>0</td><td>160</td><td>0</td><td>0</td><td>?</td><td>?</td><td>?</td><td>0</td></tr>\n",
       "\t<tr><td>29</td><td>1</td><td>2</td><td>140</td><td>?  </td><td>0</td><td>0</td><td>170</td><td>0</td><td>0</td><td>?</td><td>?</td><td>?</td><td>0</td></tr>\n",
       "\t<tr><td>30</td><td>0</td><td>1</td><td>170</td><td>237</td><td>0</td><td>1</td><td>170</td><td>0</td><td>0</td><td>?</td><td>?</td><td>6</td><td>0</td></tr>\n",
       "\t<tr><td>31</td><td>0</td><td>2</td><td>100</td><td>219</td><td>0</td><td>1</td><td>150</td><td>0</td><td>0</td><td>?</td><td>?</td><td>?</td><td>0</td></tr>\n",
       "\t<tr><td>32</td><td>0</td><td>2</td><td>105</td><td>198</td><td>0</td><td>0</td><td>165</td><td>0</td><td>0</td><td>?</td><td>?</td><td>?</td><td>0</td></tr>\n",
       "\t<tr><td>32</td><td>1</td><td>2</td><td>110</td><td>225</td><td>0</td><td>0</td><td>184</td><td>0</td><td>0</td><td>?</td><td>?</td><td>?</td><td>0</td></tr>\n",
       "</tbody>\n",
       "</table>\n"
      ],
      "text/latex": [
       "A tibble: 6 × 14\n",
       "\\begin{tabular}{llllllllllllll}\n",
       " age & sex & cp & trestbps & chol & fbs & restecg & thalach & exang & oldpeak & slope & ca & thal & num\\\\\n",
       " <dbl> & <dbl> & <dbl> & <chr> & <chr> & <chr> & <chr> & <chr> & <chr> & <dbl> & <chr> & <chr> & <chr> & <dbl>\\\\\n",
       "\\hline\n",
       "\t 29 & 1 & 2 & 120 & 243 & 0 & 0 & 160 & 0 & 0 & ? & ? & ? & 0\\\\\n",
       "\t 29 & 1 & 2 & 140 & ?   & 0 & 0 & 170 & 0 & 0 & ? & ? & ? & 0\\\\\n",
       "\t 30 & 0 & 1 & 170 & 237 & 0 & 1 & 170 & 0 & 0 & ? & ? & 6 & 0\\\\\n",
       "\t 31 & 0 & 2 & 100 & 219 & 0 & 1 & 150 & 0 & 0 & ? & ? & ? & 0\\\\\n",
       "\t 32 & 0 & 2 & 105 & 198 & 0 & 0 & 165 & 0 & 0 & ? & ? & ? & 0\\\\\n",
       "\t 32 & 1 & 2 & 110 & 225 & 0 & 0 & 184 & 0 & 0 & ? & ? & ? & 0\\\\\n",
       "\\end{tabular}\n"
      ],
      "text/markdown": [
       "\n",
       "A tibble: 6 × 14\n",
       "\n",
       "| age &lt;dbl&gt; | sex &lt;dbl&gt; | cp &lt;dbl&gt; | trestbps &lt;chr&gt; | chol &lt;chr&gt; | fbs &lt;chr&gt; | restecg &lt;chr&gt; | thalach &lt;chr&gt; | exang &lt;chr&gt; | oldpeak &lt;dbl&gt; | slope &lt;chr&gt; | ca &lt;chr&gt; | thal &lt;chr&gt; | num &lt;dbl&gt; |\n",
       "|---|---|---|---|---|---|---|---|---|---|---|---|---|---|\n",
       "| 29 | 1 | 2 | 120 | 243 | 0 | 0 | 160 | 0 | 0 | ? | ? | ? | 0 |\n",
       "| 29 | 1 | 2 | 140 | ?   | 0 | 0 | 170 | 0 | 0 | ? | ? | ? | 0 |\n",
       "| 30 | 0 | 1 | 170 | 237 | 0 | 1 | 170 | 0 | 0 | ? | ? | 6 | 0 |\n",
       "| 31 | 0 | 2 | 100 | 219 | 0 | 1 | 150 | 0 | 0 | ? | ? | ? | 0 |\n",
       "| 32 | 0 | 2 | 105 | 198 | 0 | 0 | 165 | 0 | 0 | ? | ? | ? | 0 |\n",
       "| 32 | 1 | 2 | 110 | 225 | 0 | 0 | 184 | 0 | 0 | ? | ? | ? | 0 |\n",
       "\n"
      ],
      "text/plain": [
       "  age sex cp trestbps chol fbs restecg thalach exang oldpeak slope ca thal num\n",
       "1 29  1   2  120      243  0   0       160     0     0       ?     ?  ?    0  \n",
       "2 29  1   2  140      ?    0   0       170     0     0       ?     ?  ?    0  \n",
       "3 30  0   1  170      237  0   1       170     0     0       ?     ?  6    0  \n",
       "4 31  0   2  100      219  0   1       150     0     0       ?     ?  ?    0  \n",
       "5 32  0   2  105      198  0   0       165     0     0       ?     ?  ?    0  \n",
       "6 32  1   2  110      225  0   0       184     0     0       ?     ?  ?    0  "
      ]
     },
     "metadata": {},
     "output_type": "display_data"
    }
   ],
   "source": [
    "#reading the file from the download url, then adding column names based on the data's webpage's specifications\n",
    "heart_data <- read_csv(\"https://archive.ics.uci.edu/ml/machine-learning-databases/heart-disease/processed.hungarian.data\")\n",
    "colnames(heart_data) = c(\"age\", \"sex\", \"cp\", \"trestbps\", \"chol\", \"fbs\", \"restecg\", \"thalach\", \"exang\", \"oldpeak\", \"slope\", \"ca\", \"thal\", \"num\")\n",
    "# adding the lost row of information to the dataset and converting varieties to factor\n",
    "head(heart_data)"
   ]
  },
  {
   "cell_type": "code",
   "execution_count": 4,
   "metadata": {},
   "outputs": [
    {
     "data": {
      "text/html": [
       "<table>\n",
       "<caption>A tibble: 6 × 14</caption>\n",
       "<thead>\n",
       "\t<tr><th scope=col>age</th><th scope=col>sex</th><th scope=col>cp</th><th scope=col>trestbps</th><th scope=col>chol</th><th scope=col>fbs</th><th scope=col>restecg</th><th scope=col>thalach</th><th scope=col>exang</th><th scope=col>oldpeak</th><th scope=col>slope</th><th scope=col>ca</th><th scope=col>thal</th><th scope=col>num</th></tr>\n",
       "\t<tr><th scope=col>&lt;dbl&gt;</th><th scope=col>&lt;dbl&gt;</th><th scope=col>&lt;dbl&gt;</th><th scope=col>&lt;chr&gt;</th><th scope=col>&lt;chr&gt;</th><th scope=col>&lt;chr&gt;</th><th scope=col>&lt;chr&gt;</th><th scope=col>&lt;chr&gt;</th><th scope=col>&lt;chr&gt;</th><th scope=col>&lt;dbl&gt;</th><th scope=col>&lt;chr&gt;</th><th scope=col>&lt;chr&gt;</th><th scope=col>&lt;chr&gt;</th><th scope=col>&lt;dbl&gt;</th></tr>\n",
       "</thead>\n",
       "<tbody>\n",
       "\t<tr><td>29</td><td>1</td><td>2</td><td>120</td><td>243</td><td>0</td><td>0</td><td>160</td><td>0</td><td>0</td><td>?</td><td>?</td><td>?</td><td>0</td></tr>\n",
       "\t<tr><td>29</td><td>1</td><td>2</td><td>140</td><td>?  </td><td>0</td><td>0</td><td>170</td><td>0</td><td>0</td><td>?</td><td>?</td><td>?</td><td>0</td></tr>\n",
       "\t<tr><td>30</td><td>0</td><td>1</td><td>170</td><td>237</td><td>0</td><td>1</td><td>170</td><td>0</td><td>0</td><td>?</td><td>?</td><td>6</td><td>0</td></tr>\n",
       "\t<tr><td>31</td><td>0</td><td>2</td><td>100</td><td>219</td><td>0</td><td>1</td><td>150</td><td>0</td><td>0</td><td>?</td><td>?</td><td>?</td><td>0</td></tr>\n",
       "\t<tr><td>32</td><td>0</td><td>2</td><td>105</td><td>198</td><td>0</td><td>0</td><td>165</td><td>0</td><td>0</td><td>?</td><td>?</td><td>?</td><td>0</td></tr>\n",
       "\t<tr><td>32</td><td>1</td><td>2</td><td>110</td><td>225</td><td>0</td><td>0</td><td>184</td><td>0</td><td>0</td><td>?</td><td>?</td><td>?</td><td>0</td></tr>\n",
       "</tbody>\n",
       "</table>\n"
      ],
      "text/latex": [
       "A tibble: 6 × 14\n",
       "\\begin{tabular}{llllllllllllll}\n",
       " age & sex & cp & trestbps & chol & fbs & restecg & thalach & exang & oldpeak & slope & ca & thal & num\\\\\n",
       " <dbl> & <dbl> & <dbl> & <chr> & <chr> & <chr> & <chr> & <chr> & <chr> & <dbl> & <chr> & <chr> & <chr> & <dbl>\\\\\n",
       "\\hline\n",
       "\t 29 & 1 & 2 & 120 & 243 & 0 & 0 & 160 & 0 & 0 & ? & ? & ? & 0\\\\\n",
       "\t 29 & 1 & 2 & 140 & ?   & 0 & 0 & 170 & 0 & 0 & ? & ? & ? & 0\\\\\n",
       "\t 30 & 0 & 1 & 170 & 237 & 0 & 1 & 170 & 0 & 0 & ? & ? & 6 & 0\\\\\n",
       "\t 31 & 0 & 2 & 100 & 219 & 0 & 1 & 150 & 0 & 0 & ? & ? & ? & 0\\\\\n",
       "\t 32 & 0 & 2 & 105 & 198 & 0 & 0 & 165 & 0 & 0 & ? & ? & ? & 0\\\\\n",
       "\t 32 & 1 & 2 & 110 & 225 & 0 & 0 & 184 & 0 & 0 & ? & ? & ? & 0\\\\\n",
       "\\end{tabular}\n"
      ],
      "text/markdown": [
       "\n",
       "A tibble: 6 × 14\n",
       "\n",
       "| age &lt;dbl&gt; | sex &lt;dbl&gt; | cp &lt;dbl&gt; | trestbps &lt;chr&gt; | chol &lt;chr&gt; | fbs &lt;chr&gt; | restecg &lt;chr&gt; | thalach &lt;chr&gt; | exang &lt;chr&gt; | oldpeak &lt;dbl&gt; | slope &lt;chr&gt; | ca &lt;chr&gt; | thal &lt;chr&gt; | num &lt;dbl&gt; |\n",
       "|---|---|---|---|---|---|---|---|---|---|---|---|---|---|\n",
       "| 29 | 1 | 2 | 120 | 243 | 0 | 0 | 160 | 0 | 0 | ? | ? | ? | 0 |\n",
       "| 29 | 1 | 2 | 140 | ?   | 0 | 0 | 170 | 0 | 0 | ? | ? | ? | 0 |\n",
       "| 30 | 0 | 1 | 170 | 237 | 0 | 1 | 170 | 0 | 0 | ? | ? | 6 | 0 |\n",
       "| 31 | 0 | 2 | 100 | 219 | 0 | 1 | 150 | 0 | 0 | ? | ? | ? | 0 |\n",
       "| 32 | 0 | 2 | 105 | 198 | 0 | 0 | 165 | 0 | 0 | ? | ? | ? | 0 |\n",
       "| 32 | 1 | 2 | 110 | 225 | 0 | 0 | 184 | 0 | 0 | ? | ? | ? | 0 |\n",
       "\n"
      ],
      "text/plain": [
       "  age sex cp trestbps chol fbs restecg thalach exang oldpeak slope ca thal num\n",
       "1 29  1   2  120      243  0   0       160     0     0       ?     ?  ?    0  \n",
       "2 29  1   2  140      ?    0   0       170     0     0       ?     ?  ?    0  \n",
       "3 30  0   1  170      237  0   1       170     0     0       ?     ?  6    0  \n",
       "4 31  0   2  100      219  0   1       150     0     0       ?     ?  ?    0  \n",
       "5 32  0   2  105      198  0   0       165     0     0       ?     ?  ?    0  \n",
       "6 32  1   2  110      225  0   0       184     0     0       ?     ?  ?    0  "
      ]
     },
     "metadata": {},
     "output_type": "display_data"
    }
   ],
   "source": [
    "#adding in the missing row of data that got wiped when they were replaced with column names\n",
    "heart_data[nrow(heart_data) + 1,] = list(28, 1, 2, \"130\", \"132\", \"0\", \"2\", \"185\", \"0\", 0, \"?\", \"?\", \"?\", 0)\n",
    "head(heart_data)"
   ]
  },
  {
   "cell_type": "code",
   "execution_count": 5,
   "metadata": {},
   "outputs": [
    {
     "data": {
      "text/html": [
       "<table>\n",
       "<caption>A tibble: 6 × 14</caption>\n",
       "<thead>\n",
       "\t<tr><th scope=col>age</th><th scope=col>sex</th><th scope=col>cp</th><th scope=col>trestbps</th><th scope=col>chol</th><th scope=col>fbs</th><th scope=col>restecg</th><th scope=col>thalach</th><th scope=col>exang</th><th scope=col>oldpeak</th><th scope=col>slope</th><th scope=col>ca</th><th scope=col>thal</th><th scope=col>num</th></tr>\n",
       "\t<tr><th scope=col>&lt;dbl&gt;</th><th scope=col>&lt;dbl&gt;</th><th scope=col>&lt;dbl&gt;</th><th scope=col>&lt;chr&gt;</th><th scope=col>&lt;chr&gt;</th><th scope=col>&lt;chr&gt;</th><th scope=col>&lt;chr&gt;</th><th scope=col>&lt;chr&gt;</th><th scope=col>&lt;chr&gt;</th><th scope=col>&lt;dbl&gt;</th><th scope=col>&lt;chr&gt;</th><th scope=col>&lt;chr&gt;</th><th scope=col>&lt;chr&gt;</th><th scope=col>&lt;dbl&gt;</th></tr>\n",
       "</thead>\n",
       "<tbody>\n",
       "\t<tr><td>29</td><td>1</td><td>2</td><td>120</td><td>243</td><td>0</td><td>0</td><td>160</td><td>0</td><td>0</td><td>NA</td><td>NA</td><td>NA</td><td>0</td></tr>\n",
       "\t<tr><td>29</td><td>1</td><td>2</td><td>140</td><td>NA </td><td>0</td><td>0</td><td>170</td><td>0</td><td>0</td><td>NA</td><td>NA</td><td>NA</td><td>0</td></tr>\n",
       "\t<tr><td>30</td><td>0</td><td>1</td><td>170</td><td>237</td><td>0</td><td>1</td><td>170</td><td>0</td><td>0</td><td>NA</td><td>NA</td><td>6 </td><td>0</td></tr>\n",
       "\t<tr><td>31</td><td>0</td><td>2</td><td>100</td><td>219</td><td>0</td><td>1</td><td>150</td><td>0</td><td>0</td><td>NA</td><td>NA</td><td>NA</td><td>0</td></tr>\n",
       "\t<tr><td>32</td><td>0</td><td>2</td><td>105</td><td>198</td><td>0</td><td>0</td><td>165</td><td>0</td><td>0</td><td>NA</td><td>NA</td><td>NA</td><td>0</td></tr>\n",
       "\t<tr><td>32</td><td>1</td><td>2</td><td>110</td><td>225</td><td>0</td><td>0</td><td>184</td><td>0</td><td>0</td><td>NA</td><td>NA</td><td>NA</td><td>0</td></tr>\n",
       "</tbody>\n",
       "</table>\n"
      ],
      "text/latex": [
       "A tibble: 6 × 14\n",
       "\\begin{tabular}{llllllllllllll}\n",
       " age & sex & cp & trestbps & chol & fbs & restecg & thalach & exang & oldpeak & slope & ca & thal & num\\\\\n",
       " <dbl> & <dbl> & <dbl> & <chr> & <chr> & <chr> & <chr> & <chr> & <chr> & <dbl> & <chr> & <chr> & <chr> & <dbl>\\\\\n",
       "\\hline\n",
       "\t 29 & 1 & 2 & 120 & 243 & 0 & 0 & 160 & 0 & 0 & NA & NA & NA & 0\\\\\n",
       "\t 29 & 1 & 2 & 140 & NA  & 0 & 0 & 170 & 0 & 0 & NA & NA & NA & 0\\\\\n",
       "\t 30 & 0 & 1 & 170 & 237 & 0 & 1 & 170 & 0 & 0 & NA & NA & 6  & 0\\\\\n",
       "\t 31 & 0 & 2 & 100 & 219 & 0 & 1 & 150 & 0 & 0 & NA & NA & NA & 0\\\\\n",
       "\t 32 & 0 & 2 & 105 & 198 & 0 & 0 & 165 & 0 & 0 & NA & NA & NA & 0\\\\\n",
       "\t 32 & 1 & 2 & 110 & 225 & 0 & 0 & 184 & 0 & 0 & NA & NA & NA & 0\\\\\n",
       "\\end{tabular}\n"
      ],
      "text/markdown": [
       "\n",
       "A tibble: 6 × 14\n",
       "\n",
       "| age &lt;dbl&gt; | sex &lt;dbl&gt; | cp &lt;dbl&gt; | trestbps &lt;chr&gt; | chol &lt;chr&gt; | fbs &lt;chr&gt; | restecg &lt;chr&gt; | thalach &lt;chr&gt; | exang &lt;chr&gt; | oldpeak &lt;dbl&gt; | slope &lt;chr&gt; | ca &lt;chr&gt; | thal &lt;chr&gt; | num &lt;dbl&gt; |\n",
       "|---|---|---|---|---|---|---|---|---|---|---|---|---|---|\n",
       "| 29 | 1 | 2 | 120 | 243 | 0 | 0 | 160 | 0 | 0 | NA | NA | NA | 0 |\n",
       "| 29 | 1 | 2 | 140 | NA  | 0 | 0 | 170 | 0 | 0 | NA | NA | NA | 0 |\n",
       "| 30 | 0 | 1 | 170 | 237 | 0 | 1 | 170 | 0 | 0 | NA | NA | 6  | 0 |\n",
       "| 31 | 0 | 2 | 100 | 219 | 0 | 1 | 150 | 0 | 0 | NA | NA | NA | 0 |\n",
       "| 32 | 0 | 2 | 105 | 198 | 0 | 0 | 165 | 0 | 0 | NA | NA | NA | 0 |\n",
       "| 32 | 1 | 2 | 110 | 225 | 0 | 0 | 184 | 0 | 0 | NA | NA | NA | 0 |\n",
       "\n"
      ],
      "text/plain": [
       "  age sex cp trestbps chol fbs restecg thalach exang oldpeak slope ca thal num\n",
       "1 29  1   2  120      243  0   0       160     0     0       NA    NA NA   0  \n",
       "2 29  1   2  140      NA   0   0       170     0     0       NA    NA NA   0  \n",
       "3 30  0   1  170      237  0   1       170     0     0       NA    NA 6    0  \n",
       "4 31  0   2  100      219  0   1       150     0     0       NA    NA NA   0  \n",
       "5 32  0   2  105      198  0   0       165     0     0       NA    NA NA   0  \n",
       "6 32  1   2  110      225  0   0       184     0     0       NA    NA NA   0  "
      ]
     },
     "metadata": {},
     "output_type": "display_data"
    }
   ],
   "source": [
    "# converting the \"?\" to NA\n",
    "heart_data$trestbps <- gsub(\"?\", NA, heart_data$trestbps, fixed = TRUE)\n",
    "heart_data$chol <- gsub(\"?\", NA, heart_data$chol, fixed = TRUE)\n",
    "heart_data$fbs <- gsub(\"?\", NA, heart_data$fbs, fixed = TRUE)\n",
    "heart_data$restecg <- gsub(\"?\", NA, heart_data$restecg, fixed = TRUE)\n",
    "heart_data$thalach <- gsub(\"?\", NA, heart_data$thalach, fixed = TRUE)\n",
    "heart_data$exang <- gsub(\"?\", NA, heart_data$exang, fixed = TRUE)\n",
    "heart_data$slope <- gsub(\"?\", NA, heart_data$slope, fixed = TRUE)\n",
    "heart_data$ca <- gsub(\"?\", NA, heart_data$ca, fixed = TRUE)\n",
    "heart_data$thal <- gsub(\"?\", NA, heart_data$thal, fixed = TRUE)\n",
    "head(heart_data)"
   ]
  },
  {
   "cell_type": "code",
   "execution_count": 6,
   "metadata": {},
   "outputs": [
    {
     "data": {
      "text/html": [
       "<table>\n",
       "<caption>A tibble: 6 × 14</caption>\n",
       "<thead>\n",
       "\t<tr><th scope=col>age</th><th scope=col>sex</th><th scope=col>cp</th><th scope=col>trestbps</th><th scope=col>chol</th><th scope=col>fbs</th><th scope=col>restecg</th><th scope=col>thalach</th><th scope=col>exang</th><th scope=col>oldpeak</th><th scope=col>slope</th><th scope=col>ca</th><th scope=col>thal</th><th scope=col>num</th></tr>\n",
       "\t<tr><th scope=col>&lt;dbl&gt;</th><th scope=col>&lt;dbl&gt;</th><th scope=col>&lt;dbl&gt;</th><th scope=col>&lt;dbl&gt;</th><th scope=col>&lt;dbl&gt;</th><th scope=col>&lt;dbl&gt;</th><th scope=col>&lt;dbl&gt;</th><th scope=col>&lt;dbl&gt;</th><th scope=col>&lt;dbl&gt;</th><th scope=col>&lt;dbl&gt;</th><th scope=col>&lt;dbl&gt;</th><th scope=col>&lt;dbl&gt;</th><th scope=col>&lt;dbl&gt;</th><th scope=col>&lt;dbl&gt;</th></tr>\n",
       "</thead>\n",
       "<tbody>\n",
       "\t<tr><td>29</td><td>1</td><td>2</td><td>120</td><td>243</td><td>0</td><td>0</td><td>160</td><td>0</td><td>0</td><td>NA</td><td>NA</td><td>NA</td><td>0</td></tr>\n",
       "\t<tr><td>29</td><td>1</td><td>2</td><td>140</td><td> NA</td><td>0</td><td>0</td><td>170</td><td>0</td><td>0</td><td>NA</td><td>NA</td><td>NA</td><td>0</td></tr>\n",
       "\t<tr><td>30</td><td>0</td><td>1</td><td>170</td><td>237</td><td>0</td><td>1</td><td>170</td><td>0</td><td>0</td><td>NA</td><td>NA</td><td> 6</td><td>0</td></tr>\n",
       "\t<tr><td>31</td><td>0</td><td>2</td><td>100</td><td>219</td><td>0</td><td>1</td><td>150</td><td>0</td><td>0</td><td>NA</td><td>NA</td><td>NA</td><td>0</td></tr>\n",
       "\t<tr><td>32</td><td>0</td><td>2</td><td>105</td><td>198</td><td>0</td><td>0</td><td>165</td><td>0</td><td>0</td><td>NA</td><td>NA</td><td>NA</td><td>0</td></tr>\n",
       "\t<tr><td>32</td><td>1</td><td>2</td><td>110</td><td>225</td><td>0</td><td>0</td><td>184</td><td>0</td><td>0</td><td>NA</td><td>NA</td><td>NA</td><td>0</td></tr>\n",
       "</tbody>\n",
       "</table>\n"
      ],
      "text/latex": [
       "A tibble: 6 × 14\n",
       "\\begin{tabular}{llllllllllllll}\n",
       " age & sex & cp & trestbps & chol & fbs & restecg & thalach & exang & oldpeak & slope & ca & thal & num\\\\\n",
       " <dbl> & <dbl> & <dbl> & <dbl> & <dbl> & <dbl> & <dbl> & <dbl> & <dbl> & <dbl> & <dbl> & <dbl> & <dbl> & <dbl>\\\\\n",
       "\\hline\n",
       "\t 29 & 1 & 2 & 120 & 243 & 0 & 0 & 160 & 0 & 0 & NA & NA & NA & 0\\\\\n",
       "\t 29 & 1 & 2 & 140 &  NA & 0 & 0 & 170 & 0 & 0 & NA & NA & NA & 0\\\\\n",
       "\t 30 & 0 & 1 & 170 & 237 & 0 & 1 & 170 & 0 & 0 & NA & NA &  6 & 0\\\\\n",
       "\t 31 & 0 & 2 & 100 & 219 & 0 & 1 & 150 & 0 & 0 & NA & NA & NA & 0\\\\\n",
       "\t 32 & 0 & 2 & 105 & 198 & 0 & 0 & 165 & 0 & 0 & NA & NA & NA & 0\\\\\n",
       "\t 32 & 1 & 2 & 110 & 225 & 0 & 0 & 184 & 0 & 0 & NA & NA & NA & 0\\\\\n",
       "\\end{tabular}\n"
      ],
      "text/markdown": [
       "\n",
       "A tibble: 6 × 14\n",
       "\n",
       "| age &lt;dbl&gt; | sex &lt;dbl&gt; | cp &lt;dbl&gt; | trestbps &lt;dbl&gt; | chol &lt;dbl&gt; | fbs &lt;dbl&gt; | restecg &lt;dbl&gt; | thalach &lt;dbl&gt; | exang &lt;dbl&gt; | oldpeak &lt;dbl&gt; | slope &lt;dbl&gt; | ca &lt;dbl&gt; | thal &lt;dbl&gt; | num &lt;dbl&gt; |\n",
       "|---|---|---|---|---|---|---|---|---|---|---|---|---|---|\n",
       "| 29 | 1 | 2 | 120 | 243 | 0 | 0 | 160 | 0 | 0 | NA | NA | NA | 0 |\n",
       "| 29 | 1 | 2 | 140 |  NA | 0 | 0 | 170 | 0 | 0 | NA | NA | NA | 0 |\n",
       "| 30 | 0 | 1 | 170 | 237 | 0 | 1 | 170 | 0 | 0 | NA | NA |  6 | 0 |\n",
       "| 31 | 0 | 2 | 100 | 219 | 0 | 1 | 150 | 0 | 0 | NA | NA | NA | 0 |\n",
       "| 32 | 0 | 2 | 105 | 198 | 0 | 0 | 165 | 0 | 0 | NA | NA | NA | 0 |\n",
       "| 32 | 1 | 2 | 110 | 225 | 0 | 0 | 184 | 0 | 0 | NA | NA | NA | 0 |\n",
       "\n"
      ],
      "text/plain": [
       "  age sex cp trestbps chol fbs restecg thalach exang oldpeak slope ca thal num\n",
       "1 29  1   2  120      243  0   0       160     0     0       NA    NA NA   0  \n",
       "2 29  1   2  140       NA  0   0       170     0     0       NA    NA NA   0  \n",
       "3 30  0   1  170      237  0   1       170     0     0       NA    NA  6   0  \n",
       "4 31  0   2  100      219  0   1       150     0     0       NA    NA NA   0  \n",
       "5 32  0   2  105      198  0   0       165     0     0       NA    NA NA   0  \n",
       "6 32  1   2  110      225  0   0       184     0     0       NA    NA NA   0  "
      ]
     },
     "metadata": {},
     "output_type": "display_data"
    }
   ],
   "source": [
    "#converting all chr columns to dbl columns\n",
    "heart_data_clean <- heart_data %>% \n",
    "                        mutate(trestbps = as.numeric(trestbps)) %>% \n",
    "                        mutate(chol = as.numeric(chol)) %>% \n",
    "                        mutate(fbs = as.numeric(fbs)) %>% \n",
    "                        mutate(restecg = as.numeric(restecg)) %>% \n",
    "                        mutate(thalach = as.numeric(thalach)) %>% \n",
    "                        mutate(exang = as.numeric(exang)) %>% \n",
    "                        mutate(slope = as.numeric(slope)) %>% \n",
    "                        mutate(ca = as.numeric(ca)) %>% \n",
    "                        mutate(thal = as.numeric(thal)) \n",
    "head(heart_data_clean)"
   ]
  },
  {
   "cell_type": "code",
   "execution_count": 7,
   "metadata": {},
   "outputs": [],
   "source": [
    "write_csv(heart_data_clean, \"heart_data_clean.csv\")"
   ]
  },
  {
   "cell_type": "code",
   "execution_count": 8,
   "metadata": {},
   "outputs": [
    {
     "data": {
      "text/html": [
       "<table>\n",
       "<caption>A spec_tbl_df: 294 × 14</caption>\n",
       "<thead>\n",
       "\t<tr><th scope=col>age</th><th scope=col>sex</th><th scope=col>chest_pain</th><th scope=col>resting_pressure</th><th scope=col>serum_chol</th><th scope=col>fasting_blood_sugar</th><th scope=col>resting_ecg</th><th scope=col>max_heartrate</th><th scope=col>exercise_angina</th><th scope=col>oldpeak</th><th scope=col>slope</th><th scope=col>ca</th><th scope=col>thal</th><th scope=col>num</th></tr>\n",
       "\t<tr><th scope=col>&lt;dbl&gt;</th><th scope=col>&lt;fct&gt;</th><th scope=col>&lt;fct&gt;</th><th scope=col>&lt;dbl&gt;</th><th scope=col>&lt;dbl&gt;</th><th scope=col>&lt;fct&gt;</th><th scope=col>&lt;fct&gt;</th><th scope=col>&lt;dbl&gt;</th><th scope=col>&lt;fct&gt;</th><th scope=col>&lt;dbl&gt;</th><th scope=col>&lt;fct&gt;</th><th scope=col>&lt;dbl&gt;</th><th scope=col>&lt;fct&gt;</th><th scope=col>&lt;fct&gt;</th></tr>\n",
       "</thead>\n",
       "<tbody>\n",
       "\t<tr><td>29</td><td>male  </td><td>atypical angina</td><td>120</td><td>243</td><td>false</td><td>normal     </td><td>160</td><td>no</td><td>0</td><td>NA</td><td>NA</td><td>NA   </td><td>less than 50</td></tr>\n",
       "\t<tr><td>29</td><td>male  </td><td>atypical angina</td><td>140</td><td> NA</td><td>false</td><td>normal     </td><td>170</td><td>no</td><td>0</td><td>NA</td><td>NA</td><td>NA   </td><td>less than 50</td></tr>\n",
       "\t<tr><td>30</td><td>female</td><td>typical angina </td><td>170</td><td>237</td><td>false</td><td>abnormality</td><td>170</td><td>no</td><td>0</td><td>NA</td><td>NA</td><td>fixed</td><td>less than 50</td></tr>\n",
       "\t<tr><td>⋮</td><td>⋮</td><td>⋮</td><td>⋮</td><td>⋮</td><td>⋮</td><td>⋮</td><td>⋮</td><td>⋮</td><td>⋮</td><td>⋮</td><td>⋮</td><td>⋮</td><td>⋮</td></tr>\n",
       "\t<tr><td>58</td><td>female</td><td>atypical angina</td><td>180</td><td>393</td><td>false</td><td>normal     </td><td>110</td><td>yes</td><td>1</td><td>flat</td><td>NA</td><td>reversible</td><td>more than 50</td></tr>\n",
       "\t<tr><td>65</td><td>male  </td><td>asymptomatic   </td><td>130</td><td>275</td><td>false</td><td>abnormality</td><td>115</td><td>yes</td><td>1</td><td>flat</td><td>NA</td><td>NA        </td><td>more than 50</td></tr>\n",
       "\t<tr><td>28</td><td>male  </td><td>atypical angina</td><td>130</td><td>132</td><td>false</td><td>hypertrophy</td><td>185</td><td>no </td><td>0</td><td>NA  </td><td>NA</td><td>NA        </td><td>less than 50</td></tr>\n",
       "</tbody>\n",
       "</table>\n"
      ],
      "text/latex": [
       "A spec\\_tbl\\_df: 294 × 14\n",
       "\\begin{tabular}{llllllllllllll}\n",
       " age & sex & chest\\_pain & resting\\_pressure & serum\\_chol & fasting\\_blood\\_sugar & resting\\_ecg & max\\_heartrate & exercise\\_angina & oldpeak & slope & ca & thal & num\\\\\n",
       " <dbl> & <fct> & <fct> & <dbl> & <dbl> & <fct> & <fct> & <dbl> & <fct> & <dbl> & <fct> & <dbl> & <fct> & <fct>\\\\\n",
       "\\hline\n",
       "\t 29 & male   & atypical angina & 120 & 243 & false & normal      & 160 & no & 0 & NA & NA & NA    & less than 50\\\\\n",
       "\t 29 & male   & atypical angina & 140 &  NA & false & normal      & 170 & no & 0 & NA & NA & NA    & less than 50\\\\\n",
       "\t 30 & female & typical angina  & 170 & 237 & false & abnormality & 170 & no & 0 & NA & NA & fixed & less than 50\\\\\n",
       "\t ⋮ & ⋮ & ⋮ & ⋮ & ⋮ & ⋮ & ⋮ & ⋮ & ⋮ & ⋮ & ⋮ & ⋮ & ⋮ & ⋮\\\\\n",
       "\t 58 & female & atypical angina & 180 & 393 & false & normal      & 110 & yes & 1 & flat & NA & reversible & more than 50\\\\\n",
       "\t 65 & male   & asymptomatic    & 130 & 275 & false & abnormality & 115 & yes & 1 & flat & NA & NA         & more than 50\\\\\n",
       "\t 28 & male   & atypical angina & 130 & 132 & false & hypertrophy & 185 & no  & 0 & NA   & NA & NA         & less than 50\\\\\n",
       "\\end{tabular}\n"
      ],
      "text/markdown": [
       "\n",
       "A spec_tbl_df: 294 × 14\n",
       "\n",
       "| age &lt;dbl&gt; | sex &lt;fct&gt; | chest_pain &lt;fct&gt; | resting_pressure &lt;dbl&gt; | serum_chol &lt;dbl&gt; | fasting_blood_sugar &lt;fct&gt; | resting_ecg &lt;fct&gt; | max_heartrate &lt;dbl&gt; | exercise_angina &lt;fct&gt; | oldpeak &lt;dbl&gt; | slope &lt;fct&gt; | ca &lt;dbl&gt; | thal &lt;fct&gt; | num &lt;fct&gt; |\n",
       "|---|---|---|---|---|---|---|---|---|---|---|---|---|---|\n",
       "| 29 | male   | atypical angina | 120 | 243 | false | normal      | 160 | no | 0 | NA | NA | NA    | less than 50 |\n",
       "| 29 | male   | atypical angina | 140 |  NA | false | normal      | 170 | no | 0 | NA | NA | NA    | less than 50 |\n",
       "| 30 | female | typical angina  | 170 | 237 | false | abnormality | 170 | no | 0 | NA | NA | fixed | less than 50 |\n",
       "| ⋮ | ⋮ | ⋮ | ⋮ | ⋮ | ⋮ | ⋮ | ⋮ | ⋮ | ⋮ | ⋮ | ⋮ | ⋮ | ⋮ |\n",
       "| 58 | female | atypical angina | 180 | 393 | false | normal      | 110 | yes | 1 | flat | NA | reversible | more than 50 |\n",
       "| 65 | male   | asymptomatic    | 130 | 275 | false | abnormality | 115 | yes | 1 | flat | NA | NA         | more than 50 |\n",
       "| 28 | male   | atypical angina | 130 | 132 | false | hypertrophy | 185 | no  | 0 | NA   | NA | NA         | less than 50 |\n",
       "\n"
      ],
      "text/plain": [
       "    age sex    chest_pain      resting_pressure serum_chol fasting_blood_sugar\n",
       "1   29  male   atypical angina 120              243        false              \n",
       "2   29  male   atypical angina 140               NA        false              \n",
       "3   30  female typical angina  170              237        false              \n",
       "⋮   ⋮   ⋮      ⋮               ⋮                ⋮          ⋮                  \n",
       "292 58  female atypical angina 180              393        false              \n",
       "293 65  male   asymptomatic    130              275        false              \n",
       "294 28  male   atypical angina 130              132        false              \n",
       "    resting_ecg max_heartrate exercise_angina oldpeak slope ca thal      \n",
       "1   normal      160           no              0       NA    NA NA        \n",
       "2   normal      170           no              0       NA    NA NA        \n",
       "3   abnormality 170           no              0       NA    NA fixed     \n",
       "⋮   ⋮           ⋮             ⋮               ⋮       ⋮     ⋮  ⋮         \n",
       "292 normal      110           yes             1       flat  NA reversible\n",
       "293 abnormality 115           yes             1       flat  NA NA        \n",
       "294 hypertrophy 185           no              0       NA    NA NA        \n",
       "    num         \n",
       "1   less than 50\n",
       "2   less than 50\n",
       "3   less than 50\n",
       "⋮   ⋮           \n",
       "292 more than 50\n",
       "293 more than 50\n",
       "294 less than 50"
      ]
     },
     "metadata": {},
     "output_type": "display_data"
    }
   ],
   "source": [
    "heart_data_fct <- heart_data_clean %>% \n",
    "                    mutate(sex = factor(sex, labels = c(\"female\", \"male\"))) %>% #1 = male; 0 = female\n",
    "                    mutate(cp = factor(cp, labels = c(\"typical angina\", \"atypical angina\", \"non-anginal pain\", \"asymptomatic\"))) %>% #chest pain type -- 1: typical angina -- 2: atypical angina -- 3: non-anginal pain -- 4: asymptomatic\n",
    "                    mutate(fbs = factor(fbs, labels = c(\"false\", \"true\"))) %>% #if fasting blood sugar > 120 mg/dl (1 = true; 0 = false)\n",
    "                    mutate(restecg = factor(restecg, labels = c(\"normal\", \"abnormality\", \"hypertrophy\"))) %>% #resting electrocardiographic results -- 0: normal -- 1: ST-T wave abnormality -- 2: probable or definite left ventricular hypertrophy\n",
    "                    mutate(exang = factor(exang, labels = c(\"no\", \"yes\"))) %>% #exercise induced angina (1 = yes; 0 = no)\n",
    "                    mutate(slope = factor(slope, labels = c(\"upsloping\", \"flat\", \"downsloping\"))) %>% #11. #41 (slope) the slope of the peak exercise ST segment -- 1 : upsloping -- 2: flat -- 3: downsloping\n",
    "                    mutate(thal = factor(thal, labels = c(\"normal\", \"fixed\", \"reversible\"))) %>% #3 = normal; 6 = fixed defect; 7 = reversable defect\n",
    "                    mutate(num = factor(num, labels = c(\"less than 50\", \"more than 50\"))) #diagnosis of heart disease (angiographic disease status) -- 0: < 50% diameter narrowing -- 1: > 50% diameter narrowing\n",
    "\n",
    "colnames(heart_data_fct) = c(\"age\", \"sex\", \"chest_pain\", \"resting_pressure\", \"serum_chol\", \"fasting_blood_sugar\", \"resting_ecg\", \"max_heartrate\", \"exercise_angina\", \"oldpeak\", \"slope\", \"ca\", \"thal\", \"num\")\n",
    "heart_data_fct"
   ]
  },
  {
   "cell_type": "code",
   "execution_count": 9,
   "metadata": {},
   "outputs": [],
   "source": [
    "write_csv(heart_data_fct, \"heart_data_fct.csv\")"
   ]
  },
  {
   "cell_type": "code",
   "execution_count": 10,
   "metadata": {},
   "outputs": [],
   "source": [
    "set.seed(9999)"
   ]
  },
  {
   "cell_type": "code",
   "execution_count": 11,
   "metadata": {},
   "outputs": [
    {
     "data": {
      "text/html": [
       "<table>\n",
       "<caption>A tibble: 222 × 14</caption>\n",
       "<thead>\n",
       "\t<tr><th scope=col>age</th><th scope=col>sex</th><th scope=col>chest_pain</th><th scope=col>resting_pressure</th><th scope=col>serum_chol</th><th scope=col>fasting_blood_sugar</th><th scope=col>resting_ecg</th><th scope=col>max_heartrate</th><th scope=col>exercise_angina</th><th scope=col>oldpeak</th><th scope=col>slope</th><th scope=col>ca</th><th scope=col>thal</th><th scope=col>num</th></tr>\n",
       "\t<tr><th scope=col>&lt;dbl&gt;</th><th scope=col>&lt;fct&gt;</th><th scope=col>&lt;fct&gt;</th><th scope=col>&lt;dbl&gt;</th><th scope=col>&lt;dbl&gt;</th><th scope=col>&lt;fct&gt;</th><th scope=col>&lt;fct&gt;</th><th scope=col>&lt;dbl&gt;</th><th scope=col>&lt;fct&gt;</th><th scope=col>&lt;dbl&gt;</th><th scope=col>&lt;fct&gt;</th><th scope=col>&lt;dbl&gt;</th><th scope=col>&lt;fct&gt;</th><th scope=col>&lt;fct&gt;</th></tr>\n",
       "</thead>\n",
       "<tbody>\n",
       "\t<tr><td>29</td><td>male  </td><td>atypical angina</td><td>120</td><td>243</td><td>false</td><td>normal     </td><td>160</td><td>no</td><td>0</td><td>NA</td><td>NA</td><td>NA   </td><td>less than 50</td></tr>\n",
       "\t<tr><td>30</td><td>female</td><td>typical angina </td><td>170</td><td>237</td><td>false</td><td>abnormality</td><td>170</td><td>no</td><td>0</td><td>NA</td><td>NA</td><td>fixed</td><td>less than 50</td></tr>\n",
       "\t<tr><td>31</td><td>female</td><td>atypical angina</td><td>100</td><td>219</td><td>false</td><td>abnormality</td><td>150</td><td>no</td><td>0</td><td>NA</td><td>NA</td><td>NA   </td><td>less than 50</td></tr>\n",
       "\t<tr><td>⋮</td><td>⋮</td><td>⋮</td><td>⋮</td><td>⋮</td><td>⋮</td><td>⋮</td><td>⋮</td><td>⋮</td><td>⋮</td><td>⋮</td><td>⋮</td><td>⋮</td><td>⋮</td></tr>\n",
       "\t<tr><td>58</td><td>female</td><td>atypical angina</td><td>180</td><td>393</td><td>false</td><td>normal     </td><td>110</td><td>yes</td><td>1</td><td>flat</td><td>NA</td><td>reversible</td><td>more than 50</td></tr>\n",
       "\t<tr><td>65</td><td>male  </td><td>asymptomatic   </td><td>130</td><td>275</td><td>false</td><td>abnormality</td><td>115</td><td>yes</td><td>1</td><td>flat</td><td>NA</td><td>NA        </td><td>more than 50</td></tr>\n",
       "\t<tr><td>28</td><td>male  </td><td>atypical angina</td><td>130</td><td>132</td><td>false</td><td>hypertrophy</td><td>185</td><td>no </td><td>0</td><td>NA  </td><td>NA</td><td>NA        </td><td>less than 50</td></tr>\n",
       "</tbody>\n",
       "</table>\n"
      ],
      "text/latex": [
       "A tibble: 222 × 14\n",
       "\\begin{tabular}{llllllllllllll}\n",
       " age & sex & chest\\_pain & resting\\_pressure & serum\\_chol & fasting\\_blood\\_sugar & resting\\_ecg & max\\_heartrate & exercise\\_angina & oldpeak & slope & ca & thal & num\\\\\n",
       " <dbl> & <fct> & <fct> & <dbl> & <dbl> & <fct> & <fct> & <dbl> & <fct> & <dbl> & <fct> & <dbl> & <fct> & <fct>\\\\\n",
       "\\hline\n",
       "\t 29 & male   & atypical angina & 120 & 243 & false & normal      & 160 & no & 0 & NA & NA & NA    & less than 50\\\\\n",
       "\t 30 & female & typical angina  & 170 & 237 & false & abnormality & 170 & no & 0 & NA & NA & fixed & less than 50\\\\\n",
       "\t 31 & female & atypical angina & 100 & 219 & false & abnormality & 150 & no & 0 & NA & NA & NA    & less than 50\\\\\n",
       "\t ⋮ & ⋮ & ⋮ & ⋮ & ⋮ & ⋮ & ⋮ & ⋮ & ⋮ & ⋮ & ⋮ & ⋮ & ⋮ & ⋮\\\\\n",
       "\t 58 & female & atypical angina & 180 & 393 & false & normal      & 110 & yes & 1 & flat & NA & reversible & more than 50\\\\\n",
       "\t 65 & male   & asymptomatic    & 130 & 275 & false & abnormality & 115 & yes & 1 & flat & NA & NA         & more than 50\\\\\n",
       "\t 28 & male   & atypical angina & 130 & 132 & false & hypertrophy & 185 & no  & 0 & NA   & NA & NA         & less than 50\\\\\n",
       "\\end{tabular}\n"
      ],
      "text/markdown": [
       "\n",
       "A tibble: 222 × 14\n",
       "\n",
       "| age &lt;dbl&gt; | sex &lt;fct&gt; | chest_pain &lt;fct&gt; | resting_pressure &lt;dbl&gt; | serum_chol &lt;dbl&gt; | fasting_blood_sugar &lt;fct&gt; | resting_ecg &lt;fct&gt; | max_heartrate &lt;dbl&gt; | exercise_angina &lt;fct&gt; | oldpeak &lt;dbl&gt; | slope &lt;fct&gt; | ca &lt;dbl&gt; | thal &lt;fct&gt; | num &lt;fct&gt; |\n",
       "|---|---|---|---|---|---|---|---|---|---|---|---|---|---|\n",
       "| 29 | male   | atypical angina | 120 | 243 | false | normal      | 160 | no | 0 | NA | NA | NA    | less than 50 |\n",
       "| 30 | female | typical angina  | 170 | 237 | false | abnormality | 170 | no | 0 | NA | NA | fixed | less than 50 |\n",
       "| 31 | female | atypical angina | 100 | 219 | false | abnormality | 150 | no | 0 | NA | NA | NA    | less than 50 |\n",
       "| ⋮ | ⋮ | ⋮ | ⋮ | ⋮ | ⋮ | ⋮ | ⋮ | ⋮ | ⋮ | ⋮ | ⋮ | ⋮ | ⋮ |\n",
       "| 58 | female | atypical angina | 180 | 393 | false | normal      | 110 | yes | 1 | flat | NA | reversible | more than 50 |\n",
       "| 65 | male   | asymptomatic    | 130 | 275 | false | abnormality | 115 | yes | 1 | flat | NA | NA         | more than 50 |\n",
       "| 28 | male   | atypical angina | 130 | 132 | false | hypertrophy | 185 | no  | 0 | NA   | NA | NA         | less than 50 |\n",
       "\n"
      ],
      "text/plain": [
       "    age sex    chest_pain      resting_pressure serum_chol fasting_blood_sugar\n",
       "1   29  male   atypical angina 120              243        false              \n",
       "2   30  female typical angina  170              237        false              \n",
       "3   31  female atypical angina 100              219        false              \n",
       "⋮   ⋮   ⋮      ⋮               ⋮                ⋮          ⋮                  \n",
       "220 58  female atypical angina 180              393        false              \n",
       "221 65  male   asymptomatic    130              275        false              \n",
       "222 28  male   atypical angina 130              132        false              \n",
       "    resting_ecg max_heartrate exercise_angina oldpeak slope ca thal      \n",
       "1   normal      160           no              0       NA    NA NA        \n",
       "2   abnormality 170           no              0       NA    NA fixed     \n",
       "3   abnormality 150           no              0       NA    NA NA        \n",
       "⋮   ⋮           ⋮             ⋮               ⋮       ⋮     ⋮  ⋮         \n",
       "220 normal      110           yes             1       flat  NA reversible\n",
       "221 abnormality 115           yes             1       flat  NA NA        \n",
       "222 hypertrophy 185           no              0       NA    NA NA        \n",
       "    num         \n",
       "1   less than 50\n",
       "2   less than 50\n",
       "3   less than 50\n",
       "⋮   ⋮           \n",
       "220 more than 50\n",
       "221 more than 50\n",
       "222 less than 50"
      ]
     },
     "metadata": {},
     "output_type": "display_data"
    }
   ],
   "source": [
    "#Split the data into training set and test set\n",
    "\n",
    "heart_data_split <- initial_split(heart_data_fct, prop = 0.75, strata = chest_pain)\n",
    "training_heart_data <- training(heart_data_split)\n",
    "testing_heart_data <- testing(heart_data_split)\n",
    "training_heart_data"
   ]
  },
  {
   "cell_type": "code",
   "execution_count": 12,
   "metadata": {},
   "outputs": [
    {
     "data": {
      "text/plain": [
       "      age            sex                 chest_pain resting_pressure\n",
       " Min.   :28.00   female: 66   typical angina  : 6   Min.   : 98.0   \n",
       " 1st Qu.:41.00   male  :156   atypical angina :79   1st Qu.:120.0   \n",
       " Median :48.00                non-anginal pain:42   Median :130.0   \n",
       " Mean   :47.73                asymptomatic    :95   Mean   :132.5   \n",
       " 3rd Qu.:54.00                                      3rd Qu.:140.0   \n",
       " Max.   :65.00                                      Max.   :200.0   \n",
       "                                                                    \n",
       "   serum_chol    fasting_blood_sugar      resting_ecg  max_heartrate\n",
       " Min.   : 85.0   false:198           normal     :180   Min.   : 90  \n",
       " 1st Qu.:211.0   true : 16           abnormality: 37   1st Qu.:125  \n",
       " Median :246.0   NA's :  8           hypertrophy:  5   Median :140  \n",
       " Mean   :252.6                                         Mean   :140  \n",
       " 3rd Qu.:284.0                                         3rd Qu.:155  \n",
       " Max.   :603.0                                         Max.   :190  \n",
       " NA's   :17                                                         \n",
       " exercise_angina    oldpeak               slope           ca     \n",
       " no :153         Min.   :0.0000   upsloping  :  9   Min.   :0    \n",
       " yes: 69         1st Qu.:0.0000   flat       : 71   1st Qu.:0    \n",
       "                 Median :0.0000   downsloping:  1   Median :0    \n",
       "                 Mean   :0.6216   NA's       :141   Mean   :0    \n",
       "                 3rd Qu.:1.0000                     3rd Qu.:0    \n",
       "                 Max.   :5.0000                     Max.   :0    \n",
       "                                                    NA's   :221  \n",
       "         thal               num     \n",
       " normal    :  5   less than 50:139  \n",
       " fixed     :  7   more than 50: 83  \n",
       " reversible:  8                     \n",
       " NA's      :202                     \n",
       "                                    \n",
       "                                    \n",
       "                                    "
      ]
     },
     "metadata": {},
     "output_type": "display_data"
    }
   ],
   "source": [
    "#Summarize training data\n",
    "summary(training_heart_data)"
   ]
  },
  {
   "cell_type": "code",
   "execution_count": 13,
   "metadata": {},
   "outputs": [
    {
     "data": {
      "text/html": [
       "<table>\n",
       "<caption>A data.frame: 3 × 7</caption>\n",
       "<thead>\n",
       "\t<tr><th scope=col>summary</th><th scope=col>age</th><th scope=col>resting_pressure</th><th scope=col>serum_chol</th><th scope=col>max_heartrate</th><th scope=col>oldpeak</th><th scope=col>ca</th></tr>\n",
       "\t<tr><th scope=col>&lt;chr&gt;</th><th scope=col>&lt;dbl&gt;</th><th scope=col>&lt;dbl&gt;</th><th scope=col>&lt;dbl&gt;</th><th scope=col>&lt;dbl&gt;</th><th scope=col>&lt;dbl&gt;</th><th scope=col>&lt;dbl&gt;</th></tr>\n",
       "</thead>\n",
       "<tbody>\n",
       "\t<tr><td>average</td><td>47.73423</td><td>132.473</td><td>252.5805</td><td>139.964</td><td>0.6216216</td><td>0</td></tr>\n",
       "\t<tr><td>max    </td><td>65.00000</td><td>200.000</td><td>603.0000</td><td>190.000</td><td>5.0000000</td><td>0</td></tr>\n",
       "\t<tr><td>min    </td><td>28.00000</td><td> 98.000</td><td> 85.0000</td><td> 90.000</td><td>0.0000000</td><td>0</td></tr>\n",
       "</tbody>\n",
       "</table>\n"
      ],
      "text/latex": [
       "A data.frame: 3 × 7\n",
       "\\begin{tabular}{lllllll}\n",
       " summary & age & resting\\_pressure & serum\\_chol & max\\_heartrate & oldpeak & ca\\\\\n",
       " <chr> & <dbl> & <dbl> & <dbl> & <dbl> & <dbl> & <dbl>\\\\\n",
       "\\hline\n",
       "\t average & 47.73423 & 132.473 & 252.5805 & 139.964 & 0.6216216 & 0\\\\\n",
       "\t max     & 65.00000 & 200.000 & 603.0000 & 190.000 & 5.0000000 & 0\\\\\n",
       "\t min     & 28.00000 &  98.000 &  85.0000 &  90.000 & 0.0000000 & 0\\\\\n",
       "\\end{tabular}\n"
      ],
      "text/markdown": [
       "\n",
       "A data.frame: 3 × 7\n",
       "\n",
       "| summary &lt;chr&gt; | age &lt;dbl&gt; | resting_pressure &lt;dbl&gt; | serum_chol &lt;dbl&gt; | max_heartrate &lt;dbl&gt; | oldpeak &lt;dbl&gt; | ca &lt;dbl&gt; |\n",
       "|---|---|---|---|---|---|---|\n",
       "| average | 47.73423 | 132.473 | 252.5805 | 139.964 | 0.6216216 | 0 |\n",
       "| max     | 65.00000 | 200.000 | 603.0000 | 190.000 | 5.0000000 | 0 |\n",
       "| min     | 28.00000 |  98.000 |  85.0000 |  90.000 | 0.0000000 | 0 |\n",
       "\n"
      ],
      "text/plain": [
       "  summary age      resting_pressure serum_chol max_heartrate oldpeak   ca\n",
       "1 average 47.73423 132.473          252.5805   139.964       0.6216216 0 \n",
       "2 max     65.00000 200.000          603.0000   190.000       5.0000000 0 \n",
       "3 min     28.00000  98.000           85.0000    90.000       0.0000000 0 "
      ]
     },
     "metadata": {},
     "output_type": "display_data"
    }
   ],
   "source": [
    "avg_training_heart_data <- training_heart_data %>%\n",
    "                                 select(age, resting_pressure, serum_chol, max_heartrate, oldpeak, ca) %>%\n",
    "                                 map_df(mean, na.rm = TRUE)\n",
    "#Dataframe that contains: Average of all numerical variables\n",
    "\n",
    "max_training_heart_data <- training_heart_data %>%\n",
    "                                 select(age, resting_pressure, serum_chol, max_heartrate, oldpeak, ca) %>%\n",
    "                                 map_df(max, na.rm = TRUE)\n",
    "#Dataframe that contains: Maximum of all numerical variables\n",
    "\n",
    "min_training_heart_data <- training_heart_data %>%\n",
    "                                 select(age, resting_pressure, serum_chol, max_heartrate, oldpeak, ca) %>%\n",
    "                                 map_df(min, na.rm = TRUE)\n",
    "#Dataframe that contains: Minimum of all numerical variables\n",
    "\n",
    "table_dbl <- rbind(avg_training_heart_data, max_training_heart_data, min_training_heart_data) \n",
    "df <- data.frame(summary = c('average','max','min'))\n",
    "table_dbl <- cbind(df, table_dbl)\n",
    "table_dbl\n",
    "#Summarize numerical variables in a table"
   ]
  },
  {
   "cell_type": "code",
   "execution_count": 14,
   "metadata": {},
   "outputs": [
    {
     "name": "stderr",
     "output_type": "stream",
     "text": [
      "`summarise()` ungrouping output (override with `.groups` argument)\n",
      "\n"
     ]
    },
    {
     "data": {
      "text/html": [
       "<table>\n",
       "<caption>A tibble: 4 × 2</caption>\n",
       "<thead>\n",
       "\t<tr><th scope=col>chest_pain</th><th scope=col>n</th></tr>\n",
       "\t<tr><th scope=col>&lt;fct&gt;</th><th scope=col>&lt;int&gt;</th></tr>\n",
       "</thead>\n",
       "<tbody>\n",
       "\t<tr><td>typical angina  </td><td> 6</td></tr>\n",
       "\t<tr><td>atypical angina </td><td>79</td></tr>\n",
       "\t<tr><td>non-anginal pain</td><td>42</td></tr>\n",
       "\t<tr><td>asymptomatic    </td><td>95</td></tr>\n",
       "</tbody>\n",
       "</table>\n"
      ],
      "text/latex": [
       "A tibble: 4 × 2\n",
       "\\begin{tabular}{ll}\n",
       " chest\\_pain & n\\\\\n",
       " <fct> & <int>\\\\\n",
       "\\hline\n",
       "\t typical angina   &  6\\\\\n",
       "\t atypical angina  & 79\\\\\n",
       "\t non-anginal pain & 42\\\\\n",
       "\t asymptomatic     & 95\\\\\n",
       "\\end{tabular}\n"
      ],
      "text/markdown": [
       "\n",
       "A tibble: 4 × 2\n",
       "\n",
       "| chest_pain &lt;fct&gt; | n &lt;int&gt; |\n",
       "|---|---|\n",
       "| typical angina   |  6 |\n",
       "| atypical angina  | 79 |\n",
       "| non-anginal pain | 42 |\n",
       "| asymptomatic     | 95 |\n",
       "\n"
      ],
      "text/plain": [
       "  chest_pain       n \n",
       "1 typical angina    6\n",
       "2 atypical angina  79\n",
       "3 non-anginal pain 42\n",
       "4 asymptomatic     95"
      ]
     },
     "metadata": {},
     "output_type": "display_data"
    },
    {
     "name": "stderr",
     "output_type": "stream",
     "text": [
      "`summarise()` ungrouping output (override with `.groups` argument)\n",
      "\n"
     ]
    },
    {
     "data": {
      "text/html": [
       "<table>\n",
       "<caption>A tibble: 2 × 2</caption>\n",
       "<thead>\n",
       "\t<tr><th scope=col>sex</th><th scope=col>n</th></tr>\n",
       "\t<tr><th scope=col>&lt;fct&gt;</th><th scope=col>&lt;int&gt;</th></tr>\n",
       "</thead>\n",
       "<tbody>\n",
       "\t<tr><td>female</td><td> 66</td></tr>\n",
       "\t<tr><td>male  </td><td>156</td></tr>\n",
       "</tbody>\n",
       "</table>\n"
      ],
      "text/latex": [
       "A tibble: 2 × 2\n",
       "\\begin{tabular}{ll}\n",
       " sex & n\\\\\n",
       " <fct> & <int>\\\\\n",
       "\\hline\n",
       "\t female &  66\\\\\n",
       "\t male   & 156\\\\\n",
       "\\end{tabular}\n"
      ],
      "text/markdown": [
       "\n",
       "A tibble: 2 × 2\n",
       "\n",
       "| sex &lt;fct&gt; | n &lt;int&gt; |\n",
       "|---|---|\n",
       "| female |  66 |\n",
       "| male   | 156 |\n",
       "\n"
      ],
      "text/plain": [
       "  sex    n  \n",
       "1 female  66\n",
       "2 male   156"
      ]
     },
     "metadata": {},
     "output_type": "display_data"
    },
    {
     "name": "stderr",
     "output_type": "stream",
     "text": [
      "`summarise()` ungrouping output (override with `.groups` argument)\n",
      "\n"
     ]
    },
    {
     "data": {
      "text/html": [
       "<table>\n",
       "<caption>A tibble: 3 × 2</caption>\n",
       "<thead>\n",
       "\t<tr><th scope=col>fasting_blood_sugar</th><th scope=col>n</th></tr>\n",
       "\t<tr><th scope=col>&lt;fct&gt;</th><th scope=col>&lt;int&gt;</th></tr>\n",
       "</thead>\n",
       "<tbody>\n",
       "\t<tr><td>false</td><td>198</td></tr>\n",
       "\t<tr><td>true </td><td> 16</td></tr>\n",
       "\t<tr><td>NA   </td><td>  8</td></tr>\n",
       "</tbody>\n",
       "</table>\n"
      ],
      "text/latex": [
       "A tibble: 3 × 2\n",
       "\\begin{tabular}{ll}\n",
       " fasting\\_blood\\_sugar & n\\\\\n",
       " <fct> & <int>\\\\\n",
       "\\hline\n",
       "\t false & 198\\\\\n",
       "\t true  &  16\\\\\n",
       "\t NA    &   8\\\\\n",
       "\\end{tabular}\n"
      ],
      "text/markdown": [
       "\n",
       "A tibble: 3 × 2\n",
       "\n",
       "| fasting_blood_sugar &lt;fct&gt; | n &lt;int&gt; |\n",
       "|---|---|\n",
       "| false | 198 |\n",
       "| true  |  16 |\n",
       "| NA    |   8 |\n",
       "\n"
      ],
      "text/plain": [
       "  fasting_blood_sugar n  \n",
       "1 false               198\n",
       "2 true                 16\n",
       "3 NA                    8"
      ]
     },
     "metadata": {},
     "output_type": "display_data"
    },
    {
     "name": "stderr",
     "output_type": "stream",
     "text": [
      "`summarise()` ungrouping output (override with `.groups` argument)\n",
      "\n"
     ]
    },
    {
     "data": {
      "text/html": [
       "<table>\n",
       "<caption>A tibble: 3 × 2</caption>\n",
       "<thead>\n",
       "\t<tr><th scope=col>resting_ecg</th><th scope=col>n</th></tr>\n",
       "\t<tr><th scope=col>&lt;fct&gt;</th><th scope=col>&lt;int&gt;</th></tr>\n",
       "</thead>\n",
       "<tbody>\n",
       "\t<tr><td>normal     </td><td>180</td></tr>\n",
       "\t<tr><td>abnormality</td><td> 37</td></tr>\n",
       "\t<tr><td>hypertrophy</td><td>  5</td></tr>\n",
       "</tbody>\n",
       "</table>\n"
      ],
      "text/latex": [
       "A tibble: 3 × 2\n",
       "\\begin{tabular}{ll}\n",
       " resting\\_ecg & n\\\\\n",
       " <fct> & <int>\\\\\n",
       "\\hline\n",
       "\t normal      & 180\\\\\n",
       "\t abnormality &  37\\\\\n",
       "\t hypertrophy &   5\\\\\n",
       "\\end{tabular}\n"
      ],
      "text/markdown": [
       "\n",
       "A tibble: 3 × 2\n",
       "\n",
       "| resting_ecg &lt;fct&gt; | n &lt;int&gt; |\n",
       "|---|---|\n",
       "| normal      | 180 |\n",
       "| abnormality |  37 |\n",
       "| hypertrophy |   5 |\n",
       "\n"
      ],
      "text/plain": [
       "  resting_ecg n  \n",
       "1 normal      180\n",
       "2 abnormality  37\n",
       "3 hypertrophy   5"
      ]
     },
     "metadata": {},
     "output_type": "display_data"
    },
    {
     "name": "stderr",
     "output_type": "stream",
     "text": [
      "`summarise()` ungrouping output (override with `.groups` argument)\n",
      "\n"
     ]
    },
    {
     "data": {
      "text/html": [
       "<table>\n",
       "<caption>A tibble: 2 × 2</caption>\n",
       "<thead>\n",
       "\t<tr><th scope=col>exercise_angina</th><th scope=col>n</th></tr>\n",
       "\t<tr><th scope=col>&lt;fct&gt;</th><th scope=col>&lt;int&gt;</th></tr>\n",
       "</thead>\n",
       "<tbody>\n",
       "\t<tr><td>no </td><td>153</td></tr>\n",
       "\t<tr><td>yes</td><td> 69</td></tr>\n",
       "</tbody>\n",
       "</table>\n"
      ],
      "text/latex": [
       "A tibble: 2 × 2\n",
       "\\begin{tabular}{ll}\n",
       " exercise\\_angina & n\\\\\n",
       " <fct> & <int>\\\\\n",
       "\\hline\n",
       "\t no  & 153\\\\\n",
       "\t yes &  69\\\\\n",
       "\\end{tabular}\n"
      ],
      "text/markdown": [
       "\n",
       "A tibble: 2 × 2\n",
       "\n",
       "| exercise_angina &lt;fct&gt; | n &lt;int&gt; |\n",
       "|---|---|\n",
       "| no  | 153 |\n",
       "| yes |  69 |\n",
       "\n"
      ],
      "text/plain": [
       "  exercise_angina n  \n",
       "1 no              153\n",
       "2 yes              69"
      ]
     },
     "metadata": {},
     "output_type": "display_data"
    },
    {
     "name": "stderr",
     "output_type": "stream",
     "text": [
      "`summarise()` ungrouping output (override with `.groups` argument)\n",
      "\n"
     ]
    },
    {
     "data": {
      "text/html": [
       "<table>\n",
       "<caption>A tibble: 4 × 2</caption>\n",
       "<thead>\n",
       "\t<tr><th scope=col>slope</th><th scope=col>n</th></tr>\n",
       "\t<tr><th scope=col>&lt;fct&gt;</th><th scope=col>&lt;int&gt;</th></tr>\n",
       "</thead>\n",
       "<tbody>\n",
       "\t<tr><td>upsloping  </td><td>  9</td></tr>\n",
       "\t<tr><td>flat       </td><td> 71</td></tr>\n",
       "\t<tr><td>downsloping</td><td>  1</td></tr>\n",
       "\t<tr><td>NA         </td><td>141</td></tr>\n",
       "</tbody>\n",
       "</table>\n"
      ],
      "text/latex": [
       "A tibble: 4 × 2\n",
       "\\begin{tabular}{ll}\n",
       " slope & n\\\\\n",
       " <fct> & <int>\\\\\n",
       "\\hline\n",
       "\t upsloping   &   9\\\\\n",
       "\t flat        &  71\\\\\n",
       "\t downsloping &   1\\\\\n",
       "\t NA          & 141\\\\\n",
       "\\end{tabular}\n"
      ],
      "text/markdown": [
       "\n",
       "A tibble: 4 × 2\n",
       "\n",
       "| slope &lt;fct&gt; | n &lt;int&gt; |\n",
       "|---|---|\n",
       "| upsloping   |   9 |\n",
       "| flat        |  71 |\n",
       "| downsloping |   1 |\n",
       "| NA          | 141 |\n",
       "\n"
      ],
      "text/plain": [
       "  slope       n  \n",
       "1 upsloping     9\n",
       "2 flat         71\n",
       "3 downsloping   1\n",
       "4 NA          141"
      ]
     },
     "metadata": {},
     "output_type": "display_data"
    },
    {
     "name": "stderr",
     "output_type": "stream",
     "text": [
      "`summarise()` ungrouping output (override with `.groups` argument)\n",
      "\n"
     ]
    },
    {
     "data": {
      "text/html": [
       "<table>\n",
       "<caption>A tibble: 4 × 2</caption>\n",
       "<thead>\n",
       "\t<tr><th scope=col>thal</th><th scope=col>n</th></tr>\n",
       "\t<tr><th scope=col>&lt;fct&gt;</th><th scope=col>&lt;int&gt;</th></tr>\n",
       "</thead>\n",
       "<tbody>\n",
       "\t<tr><td>normal    </td><td>  5</td></tr>\n",
       "\t<tr><td>fixed     </td><td>  7</td></tr>\n",
       "\t<tr><td>reversible</td><td>  8</td></tr>\n",
       "\t<tr><td>NA        </td><td>202</td></tr>\n",
       "</tbody>\n",
       "</table>\n"
      ],
      "text/latex": [
       "A tibble: 4 × 2\n",
       "\\begin{tabular}{ll}\n",
       " thal & n\\\\\n",
       " <fct> & <int>\\\\\n",
       "\\hline\n",
       "\t normal     &   5\\\\\n",
       "\t fixed      &   7\\\\\n",
       "\t reversible &   8\\\\\n",
       "\t NA         & 202\\\\\n",
       "\\end{tabular}\n"
      ],
      "text/markdown": [
       "\n",
       "A tibble: 4 × 2\n",
       "\n",
       "| thal &lt;fct&gt; | n &lt;int&gt; |\n",
       "|---|---|\n",
       "| normal     |   5 |\n",
       "| fixed      |   7 |\n",
       "| reversible |   8 |\n",
       "| NA         | 202 |\n",
       "\n"
      ],
      "text/plain": [
       "  thal       n  \n",
       "1 normal       5\n",
       "2 fixed        7\n",
       "3 reversible   8\n",
       "4 NA         202"
      ]
     },
     "metadata": {},
     "output_type": "display_data"
    },
    {
     "name": "stderr",
     "output_type": "stream",
     "text": [
      "`summarise()` ungrouping output (override with `.groups` argument)\n",
      "\n"
     ]
    },
    {
     "data": {
      "text/html": [
       "<table>\n",
       "<caption>A tibble: 2 × 2</caption>\n",
       "<thead>\n",
       "\t<tr><th scope=col>num</th><th scope=col>n</th></tr>\n",
       "\t<tr><th scope=col>&lt;fct&gt;</th><th scope=col>&lt;int&gt;</th></tr>\n",
       "</thead>\n",
       "<tbody>\n",
       "\t<tr><td>less than 50</td><td>139</td></tr>\n",
       "\t<tr><td>more than 50</td><td> 83</td></tr>\n",
       "</tbody>\n",
       "</table>\n"
      ],
      "text/latex": [
       "A tibble: 2 × 2\n",
       "\\begin{tabular}{ll}\n",
       " num & n\\\\\n",
       " <fct> & <int>\\\\\n",
       "\\hline\n",
       "\t less than 50 & 139\\\\\n",
       "\t more than 50 &  83\\\\\n",
       "\\end{tabular}\n"
      ],
      "text/markdown": [
       "\n",
       "A tibble: 2 × 2\n",
       "\n",
       "| num &lt;fct&gt; | n &lt;int&gt; |\n",
       "|---|---|\n",
       "| less than 50 | 139 |\n",
       "| more than 50 |  83 |\n",
       "\n"
      ],
      "text/plain": [
       "  num          n  \n",
       "1 less than 50 139\n",
       "2 more than 50  83"
      ]
     },
     "metadata": {},
     "output_type": "display_data"
    }
   ],
   "source": [
    "#Summarize number of observations of each categorical variable\n",
    "\n",
    "num_obs_cp <- training_heart_data %>%\n",
    "              group_by(chest_pain) %>%\n",
    "              summarize(n = n())\n",
    "num_obs_cp  \n",
    "\n",
    "num_obs_sex <- training_heart_data %>%\n",
    "              group_by(sex) %>%\n",
    "              summarize(n = n())\n",
    "num_obs_sex\n",
    "\n",
    "num_obs_fasting_blood_sugar <- training_heart_data %>%\n",
    "              group_by(fasting_blood_sugar) %>%\n",
    "              summarize(n = n())\n",
    "num_obs_fasting_blood_sugar\n",
    "\n",
    "num_obs_resting_ecg <- training_heart_data %>%\n",
    "              group_by(resting_ecg) %>%\n",
    "              summarize(n = n())\n",
    "num_obs_resting_ecg\n",
    "\n",
    "num_obs_exercise_angina <- training_heart_data %>%\n",
    "              group_by(exercise_angina) %>%\n",
    "              summarize(n = n())\n",
    "num_obs_exercise_angina\n",
    "\n",
    "num_obs_slope <- training_heart_data %>%\n",
    "              group_by(slope) %>%\n",
    "              summarize(n = n())\n",
    "num_obs_slope\n",
    "\n",
    "num_obs_thal <- training_heart_data %>%\n",
    "              group_by(thal) %>%\n",
    "              summarize(n = n())\n",
    "num_obs_thal\n",
    "\n",
    "num_obs_num <- training_heart_data %>%\n",
    "              group_by(num) %>%\n",
    "              summarize(n = n())\n",
    "num_obs_num"
   ]
  },
  {
   "cell_type": "code",
   "execution_count": 15,
   "metadata": {},
   "outputs": [
    {
     "data": {
      "text/html": [
       "1"
      ],
      "text/latex": [
       "1"
      ],
      "text/markdown": [
       "1"
      ],
      "text/plain": [
       "[1] 1"
      ]
     },
     "metadata": {},
     "output_type": "display_data"
    },
    {
     "data": {
      "text/html": [
       "<table>\n",
       "<caption>A tibble: 1 × 14</caption>\n",
       "<thead>\n",
       "\t<tr><th scope=col>age</th><th scope=col>sex</th><th scope=col>chest_pain</th><th scope=col>resting_pressure</th><th scope=col>serum_chol</th><th scope=col>fasting_blood_sugar</th><th scope=col>resting_ecg</th><th scope=col>max_heartrate</th><th scope=col>exercise_angina</th><th scope=col>oldpeak</th><th scope=col>slope</th><th scope=col>ca</th><th scope=col>thal</th><th scope=col>num</th></tr>\n",
       "\t<tr><th scope=col>&lt;int&gt;</th><th scope=col>&lt;int&gt;</th><th scope=col>&lt;int&gt;</th><th scope=col>&lt;int&gt;</th><th scope=col>&lt;int&gt;</th><th scope=col>&lt;int&gt;</th><th scope=col>&lt;int&gt;</th><th scope=col>&lt;int&gt;</th><th scope=col>&lt;int&gt;</th><th scope=col>&lt;int&gt;</th><th scope=col>&lt;int&gt;</th><th scope=col>&lt;int&gt;</th><th scope=col>&lt;int&gt;</th><th scope=col>&lt;int&gt;</th></tr>\n",
       "</thead>\n",
       "<tbody>\n",
       "\t<tr><td>0</td><td>0</td><td>0</td><td>0</td><td>17</td><td>8</td><td>0</td><td>0</td><td>0</td><td>0</td><td>141</td><td>221</td><td>202</td><td>0</td></tr>\n",
       "</tbody>\n",
       "</table>\n"
      ],
      "text/latex": [
       "A tibble: 1 × 14\n",
       "\\begin{tabular}{llllllllllllll}\n",
       " age & sex & chest\\_pain & resting\\_pressure & serum\\_chol & fasting\\_blood\\_sugar & resting\\_ecg & max\\_heartrate & exercise\\_angina & oldpeak & slope & ca & thal & num\\\\\n",
       " <int> & <int> & <int> & <int> & <int> & <int> & <int> & <int> & <int> & <int> & <int> & <int> & <int> & <int>\\\\\n",
       "\\hline\n",
       "\t 0 & 0 & 0 & 0 & 17 & 8 & 0 & 0 & 0 & 0 & 141 & 221 & 202 & 0\\\\\n",
       "\\end{tabular}\n"
      ],
      "text/markdown": [
       "\n",
       "A tibble: 1 × 14\n",
       "\n",
       "| age &lt;int&gt; | sex &lt;int&gt; | chest_pain &lt;int&gt; | resting_pressure &lt;int&gt; | serum_chol &lt;int&gt; | fasting_blood_sugar &lt;int&gt; | resting_ecg &lt;int&gt; | max_heartrate &lt;int&gt; | exercise_angina &lt;int&gt; | oldpeak &lt;int&gt; | slope &lt;int&gt; | ca &lt;int&gt; | thal &lt;int&gt; | num &lt;int&gt; |\n",
       "|---|---|---|---|---|---|---|---|---|---|---|---|---|---|\n",
       "| 0 | 0 | 0 | 0 | 17 | 8 | 0 | 0 | 0 | 0 | 141 | 221 | 202 | 0 |\n",
       "\n"
      ],
      "text/plain": [
       "  age sex chest_pain resting_pressure serum_chol fasting_blood_sugar\n",
       "1 0   0   0          0                17         8                  \n",
       "  resting_ecg max_heartrate exercise_angina oldpeak slope ca  thal num\n",
       "1 0           0             0               0       141   221 202  0  "
      ]
     },
     "metadata": {},
     "output_type": "display_data"
    }
   ],
   "source": [
    "#missing data\n",
    "\n",
    "miss_obs_row <- nrow(na.omit(training_heart_data))\n",
    "miss_obs_row \n",
    "\n",
    "miss_obs_column <- training_heart_data %>%\n",
    "                   map_df(~sum(is.na(.)))\n",
    "miss_obs_column"
   ]
  },
  {
   "cell_type": "code",
   "execution_count": 16,
   "metadata": {},
   "outputs": [],
   "source": [
    "#Summarize number of observations of each category\n",
    "#Should not use ca, slope, thal since most of the observations from these three variables have NAs."
   ]
  },
  {
   "cell_type": "code",
   "execution_count": null,
   "metadata": {},
   "outputs": [],
   "source": [
    "#Forward selection\n",
    "#Since 221 out of 222 observations are missing for the ca column (Number of major vessels (0-3) colored by flourosopy), we will not choose it \n",
    "#as a predictor.\n",
    "\n",
    "heart_subset <- training_heart_data %>%\n",
    "                filter(!is.na(serum_chol))%>%\n",
    "                select(num, age, resting_pressure, serum_chol, max_heartrate, oldpeak)\n",
    "\n",
    "names <- colnames(heart_subset %>% select(-num))\n",
    "\n",
    "\n",
    "accuracies <- tibble(size = integer(), \n",
    "                     model_string = character(), \n",
    "                     accuracy = numeric())\n",
    "\n",
    "knn_spec <- nearest_neighbor(weight_func = \"rectangular\", neighbors = tune()) %>%\n",
    "     set_engine(\"kknn\") %>%\n",
    "     set_mode(\"classification\")\n",
    "\n",
    "heart_vfold <- vfold_cv(heart_subset, v = 5, strata = num)\n",
    "\n",
    "n_total <- length(names)\n",
    "\n",
    "selected <- c()\n",
    "\n",
    "for (i in 1:n_total) {\n",
    "    accs <- list()\n",
    "    models <- list()\n",
    "    for (j in 1:length(names)) {\n",
    "        preds_new <- c(selected, names[[j]])\n",
    "        model_string <- paste(\"num\", \"~\", paste(preds_new, collapse=\"+\"))\n",
    "\n",
    "        heart_recipe <- recipe(as.formula(model_string), data = heart_subset) %>%\n",
    "                          step_scale(all_predictors()) %>%\n",
    "                          step_center(all_predictors())\n",
    "\n",
    "        acc <- workflow() %>%\n",
    "          add_recipe(heart_recipe) %>%\n",
    "          add_model(knn_spec) %>%\n",
    "          tune_grid(resamples = heart_vfold, grid = 10) %>%\n",
    "          collect_metrics() %>%\n",
    "          filter(.metric == \"accuracy\") %>%\n",
    "          summarize(mx = max(mean))\n",
    "        acc <- acc$mx %>% unlist()\n",
    "\n",
    "        accs[[j]] <- acc\n",
    "        models[[j]] <- model_string\n",
    "    }\n",
    "    jstar <- which.max(unlist(accs))\n",
    "    accuracies <- accuracies %>%\n",
    "      add_row(size = i, \n",
    "              model_string = models[[jstar]], \n",
    "              accuracy = accs[[jstar]])\n",
    "    selected <- c(selected, names[[jstar]])\n",
    "    names <- names[-jstar]\n",
    "}\n",
    "accuracies"
   ]
  },
  {
   "cell_type": "code",
   "execution_count": null,
   "metadata": {},
   "outputs": [],
   "source": [
    "#Visualization\n",
    "options(repr.plot.height = 8, repr.plot.width = 10)\n",
    "distribution_age_plot <- training_heart_data %>%\n",
    "                         select(age, num) %>%\n",
    "                         ggplot(aes(x = age, fill = num)) +\n",
    "                         geom_histogram(position = 'identity') +\n",
    "                         labs(x = 'Age', fill = 'Diagnosis of heart disease') +\n",
    "                         ggtitle('Distribution of patients by age and diagnosis of heart disease') +\n",
    "                         facet_grid(num ~.) +\n",
    "                         theme(text = element_text(size = 20))\n",
    "                          \n",
    "distribution_age_plot\n",
    "\n",
    "distribution_rp_plot <- training_heart_data %>%\n",
    "                         select(resting_pressure, num) %>%\n",
    "                         ggplot(aes(x = resting_pressure, fill = num)) +\n",
    "                         geom_histogram(position = 'identity') +\n",
    "                         labs(x = 'Resting blood pressure', fill = 'Diagnosis of heart disease') +\n",
    "                         ggtitle('Distribution of patients by resting blood pressure and diagnosis of heart disease') +\n",
    "                         facet_grid(num ~.) +\n",
    "                         theme(text = element_text(size = 20))\n",
    "distribution_rp_plot\n",
    "\n",
    "distribution_sc_plot <- training_heart_data %>%\n",
    "                         select(serum_chol, num) %>%\n",
    "                         ggplot(aes(x = serum_chol, fill = num)) +\n",
    "                         geom_histogram(position = 'identity') +\n",
    "                         labs(x = 'Serum cholesterol (in mg/dl)', fill = 'Diagnosis of heart disease') +\n",
    "                         ggtitle('Distribution of patients by Serum cholesterol and diagnosis of heart disease') +\n",
    "                         facet_grid(num ~.) +\n",
    "                         theme(text = element_text(size = 20))\n",
    "distribution_sc_plot\n",
    "\n",
    "distribution_mhr_plot <- training_heart_data %>%\n",
    "                         select(max_heartrate, num) %>%\n",
    "                         ggplot(aes(x = max_heartrate, fill = num)) +\n",
    "                         geom_histogram(position = 'identity') +\n",
    "                         labs(x = 'Maximum heart rate achieved', fill = 'Diagnosis of heart disease') +\n",
    "                         ggtitle('Distribution of patients by maximum heart rate achieved and diagnosis of heart disease') +\n",
    "                         facet_grid(num ~.) +\n",
    "                         theme(text = element_text(size = 20))\n",
    "distribution_mhr_plot\n",
    "\n",
    "distribution_op_plot <- training_heart_data %>%\n",
    "                         select(oldpeak, num) %>%\n",
    "                         ggplot(aes(x = oldpeak, fill = num)) +\n",
    "                         geom_histogram(position = 'identity') +\n",
    "                         labs(x = 'ST depression induced by exercise relative to rest', fill = 'Diagnosis of heart disease') +\n",
    "                         ggtitle('Distribution of patients by ST depression induced by exercise relative to rest and diagnosis of heart disease') +\n",
    "                         facet_grid(num ~.) +\n",
    "                         theme(text = element_text(size = 20))\n",
    "distribution_op_plot"
   ]
  },
  {
   "cell_type": "markdown",
   "metadata": {},
   "source": [
    "**Summary on the histograms**\n",
    "\n",
    "An obvious difference in the distribution is observed in the histograms of \"resting blood pressure,\" \"ST depression by exercise compared with resting,\" and \"serum cholesterol testosterone.\"; this difference suggests that these three variables could be used to predict the presence of heart disease in a patient."
   ]
  },
  {
   "cell_type": "code",
   "execution_count": null,
   "metadata": {},
   "outputs": [],
   "source": [
    "options(repr.plot.height = 8, repr.plot.width = 12)\n",
    "\n",
    "\n",
    "rp_vs_sc <- training_heart_data %>%\n",
    "                         select(serum_chol, resting_pressure, num) %>%\n",
    "                         ggplot(aes(x = resting_pressure, y = serum_chol, color = num)) +\n",
    "                         geom_point() +\n",
    "                         labs(x = 'Resting blood pressure', y = 'Serum cholesterol (in mg/dl)', color = 'Diagnosis of heart disease') +\n",
    "                         ggtitle('Relationship between resting pressure and serum cholesterol') +\n",
    "                         theme(text = element_text(size = 15))\n",
    "rp_vs_sc\n",
    "\n",
    "rp_vs_op <- training_heart_data %>%\n",
    "                         select(resting_pressure, oldpeak, num) %>%\n",
    "                         ggplot(aes(x = resting_pressure, y = oldpeak, color = num)) +\n",
    "                         geom_point() +\n",
    "                         labs(x = 'Resting blood pressure', y = 'ST depression induced by exercise relative to rest', color = 'Diagnosis of heart disease') +\n",
    "                         ggtitle('Relationship between resting pressure and ST depression induced by exercise relative to rest') +\n",
    "                         theme(text = element_text(size = 15))\n",
    "rp_vs_op\n",
    "\n",
    "sc_vs_op <- training_heart_data %>%\n",
    "                         select(serum_chol, oldpeak, num) %>%\n",
    "                         ggplot(aes(x = serum_chol, y = oldpeak, color = num)) +\n",
    "                         geom_point() +\n",
    "                         labs(x = 'Serum cholesterol (in mg/dl)', y = 'ST depression induced by exercise relative to rest', color = 'Diagnosis of heart disease') +\n",
    "                         ggtitle('Relationship between Serum cholesterol and ST depression induced by exercise relative to rest') +\n",
    "                         theme(text = element_text(size = 15))\n",
    "sc_vs_op\n",
    "\n"
   ]
  },
  {
   "cell_type": "markdown",
   "metadata": {},
   "source": [
    "**Summary on the scatterplots**\n",
    "\n",
    "Scatter plots showing that there is a weak correlation between resting blood pressure and serum cholesterol (mg/dl). There is no obvious correlation between \"resting pressure vs serum chol\" and \"serum chol vs oldpeak (ST depression by exercise relative to rest).\" However, these two scatter plots show that patients without heart disease have a low oldpeak, whereas patients with heart disease have a higher oldpeak."
   ]
  },
  {
   "cell_type": "markdown",
   "metadata": {},
   "source": [
    "\n",
    "**Methods**\n",
    "\n",
    "By selecting num (diagnosis of heart disease), ST depression, serum cholesterol level, and resting blood pressure, we will be conducting a K-nearest neighbors classification model to predict the existence of a diagnosis from different values of these variables. Forward selection shows that using oldpeak, serum_chol, and resting_pressure to predict num yields the highest estimated accuracy; using these predictor variables is more likely to accurately predict diagnosis of heart disease. We will split the data into training and testing sets, then complete the cross validation process to calculate the value of K with maximum validation accuracy. K will be retrained, and give a final prediction. The data will be visualized with a scatter plot with different colors to differentiate the positive/negative diagnosis', as well as a line graph to see which K is most accurate. Workflows and tibbles will be used to represent numerical data and ensure the reader follows the steps and calculations accordingly. \n"
   ]
  },
  {
   "cell_type": "markdown",
   "metadata": {},
   "source": [
    "**Expected outcomes and significance**\n",
    "\n",
    "From our analysis, we expect to predict the diagnosis of heart diseases, based on ST depression, serum cholesterol level, and resting blood pressure. The impact of this analysis is that it is much easier to predict diagnosis of heart disease using data rather than conducting a measurement of the artery’s narrowing, which is a big step in accessibility of diagnoses since it would be possible to give the necessary treatment to people who may not have accessibility to other medical testing. This analysis could possibly lead to questions such as will the symptoms that indicate heart disease lead to a diagnosis of other diseases? As well, what other easier accessed measurements can be used when diagnosing heart diseases to further simplify the process."
   ]
  }
 ],
 "metadata": {
  "kernelspec": {
   "display_name": "R",
   "language": "R",
   "name": "ir"
  },
  "language_info": {
   "codemirror_mode": "r",
   "file_extension": ".r",
   "mimetype": "text/x-r-source",
   "name": "R",
   "pygments_lexer": "r",
   "version": "4.0.0"
  }
 },
 "nbformat": 4,
 "nbformat_minor": 4
}
