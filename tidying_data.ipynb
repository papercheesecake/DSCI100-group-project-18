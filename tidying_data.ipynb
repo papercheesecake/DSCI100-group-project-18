{
 "cells": [
  {
   "cell_type": "code",
   "execution_count": 4,
   "metadata": {},
   "outputs": [
    {
     "data": {
      "text/html": [
       "<table>\n",
       "<caption>A data.frame: 6 × 14</caption>\n",
       "<thead>\n",
       "\t<tr><th></th><th scope=col>age</th><th scope=col>sex</th><th scope=col>cp</th><th scope=col>trestbps</th><th scope=col>chol</th><th scope=col>fbs</th><th scope=col>restecg</th><th scope=col>thalach</th><th scope=col>exang</th><th scope=col>oldpeak</th><th scope=col>slope</th><th scope=col>ca</th><th scope=col>thal</th><th scope=col>num</th></tr>\n",
       "\t<tr><th></th><th scope=col>&lt;int&gt;</th><th scope=col>&lt;int&gt;</th><th scope=col>&lt;int&gt;</th><th scope=col>&lt;chr&gt;</th><th scope=col>&lt;int&gt;</th><th scope=col>&lt;chr&gt;</th><th scope=col>&lt;chr&gt;</th><th scope=col>&lt;chr&gt;</th><th scope=col>&lt;chr&gt;</th><th scope=col>&lt;chr&gt;</th><th scope=col>&lt;chr&gt;</th><th scope=col>&lt;chr&gt;</th><th scope=col>&lt;chr&gt;</th><th scope=col>&lt;int&gt;</th></tr>\n",
       "</thead>\n",
       "<tbody>\n",
       "\t<tr><th scope=row>1</th><td>34</td><td>1</td><td>4</td><td>115</td><td>0</td><td>?</td><td>?</td><td>154</td><td>0</td><td>.2  </td><td>1</td><td>?</td><td>?</td><td>1</td></tr>\n",
       "\t<tr><th scope=row>2</th><td>35</td><td>1</td><td>4</td><td>?  </td><td>0</td><td>?</td><td>0</td><td>130</td><td>1</td><td>?   </td><td>?</td><td>?</td><td>7</td><td>3</td></tr>\n",
       "\t<tr><th scope=row>3</th><td>36</td><td>1</td><td>4</td><td>110</td><td>0</td><td>?</td><td>0</td><td>125</td><td>1</td><td>1   </td><td>2</td><td>?</td><td>6</td><td>1</td></tr>\n",
       "\t<tr><th scope=row>4</th><td>38</td><td>0</td><td>4</td><td>105</td><td>0</td><td>?</td><td>0</td><td>166</td><td>0</td><td>2.8 </td><td>1</td><td>?</td><td>?</td><td>2</td></tr>\n",
       "\t<tr><th scope=row>5</th><td>38</td><td>0</td><td>4</td><td>110</td><td>0</td><td>0</td><td>0</td><td>156</td><td>0</td><td>0   </td><td>2</td><td>?</td><td>3</td><td>1</td></tr>\n",
       "\t<tr><th scope=row>6</th><td>38</td><td>1</td><td>3</td><td>100</td><td>0</td><td>?</td><td>0</td><td>179</td><td>0</td><td>-1.1</td><td>1</td><td>?</td><td>?</td><td>0</td></tr>\n",
       "</tbody>\n",
       "</table>\n"
      ],
      "text/latex": [
       "A data.frame: 6 × 14\n",
       "\\begin{tabular}{r|llllllllllllll}\n",
       "  & age & sex & cp & trestbps & chol & fbs & restecg & thalach & exang & oldpeak & slope & ca & thal & num\\\\\n",
       "  & <int> & <int> & <int> & <chr> & <int> & <chr> & <chr> & <chr> & <chr> & <chr> & <chr> & <chr> & <chr> & <int>\\\\\n",
       "\\hline\n",
       "\t1 & 34 & 1 & 4 & 115 & 0 & ? & ? & 154 & 0 & .2   & 1 & ? & ? & 1\\\\\n",
       "\t2 & 35 & 1 & 4 & ?   & 0 & ? & 0 & 130 & 1 & ?    & ? & ? & 7 & 3\\\\\n",
       "\t3 & 36 & 1 & 4 & 110 & 0 & ? & 0 & 125 & 1 & 1    & 2 & ? & 6 & 1\\\\\n",
       "\t4 & 38 & 0 & 4 & 105 & 0 & ? & 0 & 166 & 0 & 2.8  & 1 & ? & ? & 2\\\\\n",
       "\t5 & 38 & 0 & 4 & 110 & 0 & 0 & 0 & 156 & 0 & 0    & 2 & ? & 3 & 1\\\\\n",
       "\t6 & 38 & 1 & 3 & 100 & 0 & ? & 0 & 179 & 0 & -1.1 & 1 & ? & ? & 0\\\\\n",
       "\\end{tabular}\n"
      ],
      "text/markdown": [
       "\n",
       "A data.frame: 6 × 14\n",
       "\n",
       "| <!--/--> | age &lt;int&gt; | sex &lt;int&gt; | cp &lt;int&gt; | trestbps &lt;chr&gt; | chol &lt;int&gt; | fbs &lt;chr&gt; | restecg &lt;chr&gt; | thalach &lt;chr&gt; | exang &lt;chr&gt; | oldpeak &lt;chr&gt; | slope &lt;chr&gt; | ca &lt;chr&gt; | thal &lt;chr&gt; | num &lt;int&gt; |\n",
       "|---|---|---|---|---|---|---|---|---|---|---|---|---|---|---|\n",
       "| 1 | 34 | 1 | 4 | 115 | 0 | ? | ? | 154 | 0 | .2   | 1 | ? | ? | 1 |\n",
       "| 2 | 35 | 1 | 4 | ?   | 0 | ? | 0 | 130 | 1 | ?    | ? | ? | 7 | 3 |\n",
       "| 3 | 36 | 1 | 4 | 110 | 0 | ? | 0 | 125 | 1 | 1    | 2 | ? | 6 | 1 |\n",
       "| 4 | 38 | 0 | 4 | 105 | 0 | ? | 0 | 166 | 0 | 2.8  | 1 | ? | ? | 2 |\n",
       "| 5 | 38 | 0 | 4 | 110 | 0 | 0 | 0 | 156 | 0 | 0    | 2 | ? | 3 | 1 |\n",
       "| 6 | 38 | 1 | 3 | 100 | 0 | ? | 0 | 179 | 0 | -1.1 | 1 | ? | ? | 0 |\n",
       "\n"
      ],
      "text/plain": [
       "  age sex cp trestbps chol fbs restecg thalach exang oldpeak slope ca thal num\n",
       "1 34  1   4  115      0    ?   ?       154     0     .2      1     ?  ?    1  \n",
       "2 35  1   4  ?        0    ?   0       130     1     ?       ?     ?  7    3  \n",
       "3 36  1   4  110      0    ?   0       125     1     1       2     ?  6    1  \n",
       "4 38  0   4  105      0    ?   0       166     0     2.8     1     ?  ?    2  \n",
       "5 38  0   4  110      0    0   0       156     0     0       2     ?  3    1  \n",
       "6 38  1   3  100      0    ?   0       179     0     -1.1    1     ?  ?    0  "
      ]
     },
     "metadata": {},
     "output_type": "display_data"
    }
   ],
   "source": [
    "swiss <- read.csv(\"processed.switzerland.csv\")\n",
    "colnames(swiss) = c(\"age\", \"sex\", \"cp\", \"trestbps\", \"chol\", \"fbs\", \"restecg\", \"thalach\", \"exang\", \"oldpeak\", \"slope\", \"ca\", \"thal\", \"num\")\n",
    "head(swiss, 6)"
   ]
  },
  {
   "cell_type": "code",
   "execution_count": 5,
   "metadata": {},
   "outputs": [
    {
     "ename": "ERROR",
     "evalue": "Error in write_csv(swiss, \"colnames_processed.switzerland.csv\"): could not find function \"write_csv\"\n",
     "output_type": "error",
     "traceback": [
      "Error in write_csv(swiss, \"colnames_processed.switzerland.csv\"): could not find function \"write_csv\"\nTraceback:\n"
     ]
    }
   ],
   "source": [
    "library()\n",
    "write_csv(swiss, \"colnames_processed.switzerland.csv\")"
   ]
  },
  {
   "cell_type": "code",
   "execution_count": null,
   "metadata": {},
   "outputs": [],
   "source": []
  }
 ],
 "metadata": {
  "kernelspec": {
   "display_name": "R",
   "language": "R",
   "name": "ir"
  },
  "language_info": {
   "codemirror_mode": "r",
   "file_extension": ".r",
   "mimetype": "text/x-r-source",
   "name": "R",
   "pygments_lexer": "r",
   "version": "4.0.0"
  }
 },
 "nbformat": 4,
 "nbformat_minor": 4
}
